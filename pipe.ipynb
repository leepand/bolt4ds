{
 "cells": [
  {
   "cell_type": "code",
   "execution_count": 1,
   "metadata": {},
   "outputs": [
    {
     "name": "stdout",
     "output_type": "stream",
     "text": [
      "Welcome to filepipe for ds!\n"
     ]
    },
    {
     "name": "stderr",
     "output_type": "stream",
     "text": [
      "/Users/leepand/Downloads/github/bolt4ds/bolt4ds/pipe/api.py:51: UserWarning: Config for profile logs in /Users/leepand/d6tpipe/cfg.json already exists, skipping init. Use reset=True to reset config.\n",
      "  warnings.warn('Config for profile {} in {} already exists, skipping init. Use reset=True to reset config.'.format(self.profile,self.filecfg))\n"
     ]
    }
   ],
   "source": [
    "import bolt4ds.pipe as bolt4dspipe\n",
    "bolt4dspipe.api.ConfigManager(profile='logs').init()\n",
    "api = bolt4dspipe.api.APILocal(profile=\"logs\") # local mode\n",
    "#api.setToken('<your-token>') # DONT SHARE YOUR TOKEN! Do not save in code, just run it once"
   ]
  },
  {
   "cell_type": "code",
   "execution_count": 2,
   "metadata": {},
   "outputs": [
    {
     "data": {
      "text/plain": [
       "'/Users/leepand/Downloads/github/bolt4ds'"
      ]
     },
     "execution_count": 2,
     "metadata": {},
     "output_type": "execute_result"
    }
   ],
   "source": [
    "import os\n",
    "os.getcwd()"
   ]
  },
  {
   "cell_type": "code",
   "execution_count": 3,
   "metadata": {},
   "outputs": [],
   "source": [
    "base_path=\"/Users/leepand/Downloads/github/bolt4ds/data\""
   ]
  },
  {
   "cell_type": "code",
   "execution_count": null,
   "metadata": {},
   "outputs": [],
   "source": [
    "import bolt4ds.pipe as bolt4dspipe\n",
    "bolt4dspipe.api.ConfigManager(profile='logs',).init()\n",
    "api = bolt4dspipe.api.APILocal(profile=\"logs\") # local mode\n",
    "#api.setToken('<your-token>') # DONT SHARE YOUR TOKEN! Do not save in code, just run it once"
   ]
  },
  {
   "cell_type": "code",
   "execution_count": 18,
   "metadata": {},
   "outputs": [
    {
     "name": "stdout",
     "output_type": "stream",
     "text": [
      "{\n",
      "    \"default\": {\n",
      "        \"server\": \"https://pipe.databolt.tech\",\n",
      "        \"filerepo\": \"~/d6tpipe/files/default\",\n",
      "        \"filereporoot\": \"~/d6tpipe\",\n",
      "        \"filedb\": \"~/d6tpipe/files/default/.filedb.json\"\n",
      "    },\n",
      "    \"logs\": {\n",
      "        \"server\": \"https://pipe.databolt.tech\",\n",
      "        \"filerepo\": \"~/d6tpipe/files/logs\",\n",
      "        \"filereporoot\": \"~/d6tpipe\",\n",
      "        \"filedb\": \"~/d6tpipe/files/logs/.filedb.json\"\n",
      "    },\n",
      "    \"user2\": {\n",
      "        \"server\": \"https://pipe.databolt.tech\",\n",
      "        \"filerepo\": \"~/d6tpipe/files/user2\",\n",
      "        \"filereporoot\": \"~/d6tpipe\",\n",
      "        \"filedb\": \"~/d6tpipe/files/user2/.filedb.json\"\n",
      "    },\n",
      "    \"projectA\": {\n",
      "        \"filerepo\": \"/Users/leepand/Downloads/github/bolt4ds/data/files/projectA\",\n",
      "        \"server\": \"https://pipe.databolt.tech\",\n",
      "        \"filereporoot\": \"/Users/leepand/Downloads/github/bolt4ds/data\",\n",
      "        \"filedb\": \"/Users/leepand/Downloads/github/bolt4ds/data/files/projectA/.filedb.json\"\n",
      "    },\n",
      "    \"projectB\": {\n",
      "        \"filerepo\": \"/Users/leepand/Downloads/github/bolt4ds/data/files/projectB\",\n",
      "        \"server\": \"https://pipe.databolt.tech\",\n",
      "        \"filereporoot\": \"/Users/leepand/Downloads/github/bolt4ds/data\",\n",
      "        \"filedb\": \"/Users/leepand/Downloads/github/bolt4ds/data/files/projectB/.filedb.json\"\n",
      "    },\n",
      "    \"cloud\": {\n",
      "        \"filerepo\": \"/Users/leepand/Downloads/github/bolt4ds/data/files/cloud\",\n",
      "        \"server\": \"https://pipe.databolt.tech\",\n",
      "        \"filereporoot\": \"/Users/leepand/Downloads/github/bolt4ds/data\",\n",
      "        \"filedb\": \"/Users/leepand/Downloads/github/bolt4ds/data/files/cloud/.filedb.json\"\n",
      "    },\n",
      "    \"onprem\": {\n",
      "        \"filerepo\": \"/Users/leepand/Downloads/github/bolt4ds/data/files/onprem\",\n",
      "        \"server\": \"https://pipe.databolt.tech\",\n",
      "        \"filereporoot\": \"/Users/leepand/Downloads/github/bolt4ds/data\",\n",
      "        \"filedb\": \"/Users/leepand/Downloads/github/bolt4ds/data/files/onprem/.filedb.json\"\n",
      "    }\n",
      "}\n"
     ]
    }
   ],
   "source": [
    "# show profiles\n",
    "bolt4dspipe.api.list_profiles(filecfg=base_path+\"/cfg.json\")"
   ]
  },
  {
   "cell_type": "code",
   "execution_count": 9,
   "metadata": {},
   "outputs": [],
   "source": [
    "#查看配置信息 需要指定filecfg\n",
    "# make profiles\n",
    "bolt4dspipe.api.ConfigManager(profile='user2',filecfg=base_path+\"/cfg.json\").init()\n",
    "bolt4dspipe.api.ConfigManager(profile='projectA',filecfg=base_path+\"/cfg.json\").init({'filerepo':base_path})\n",
    "bolt4dspipe.api.ConfigManager(profile='projectB',filecfg=base_path+\"/cfg.json\").init({'filerepo':base_path})\n",
    "bolt4dspipe.api.ConfigManager(profile='cloud',filecfg=base_path+\"/cfg.json\").init({'filerepo':base_path})\n",
    "bolt4dspipe.api.ConfigManager(profile='onprem',filecfg=base_path+\"/cfg.json\").init({'filerepo':base_path})\n",
    "\n",
    "\n",
    "\n",
    "#bolt4dspipe.api.ConfigManager(profile='logs',filecfg=base_path+\"/cfg.json\").load()\n"
   ]
  },
  {
   "cell_type": "code",
   "execution_count": 12,
   "metadata": {},
   "outputs": [
    {
     "name": "stdout",
     "output_type": "stream",
     "text": [
      "No token provided. Register or login to connect to repo API.\n"
     ]
    },
    {
     "name": "stderr",
     "output_type": "stream",
     "text": [
      "/Users/leepand/Downloads/github/bolt4ds/bolt4ds/pipe/api.py:123: UserWarning: auto created profile \"onprem\", see docs how to customize profile\n",
      "  warnings.warn('auto created profile \"{}\", see docs how to customize profile'.format(self.profile))\n"
     ]
    }
   ],
   "source": [
    "# connect using a profile name\n",
    "api = bolt4dspipe.api.APIClient(profile='onprem')"
   ]
  },
  {
   "cell_type": "code",
   "execution_count": 46,
   "metadata": {},
   "outputs": [
    {
     "name": "stdout",
     "output_type": "stream",
     "text": [
      "Operating in local mode, use this to access local files, to run remote operations use `Pipe()`\n"
     ]
    },
    {
     "data": {
      "text/plain": [
       "'overview.png'"
      ]
     },
     "execution_count": 46,
     "metadata": {},
     "output_type": "execute_result"
    }
   ],
   "source": [
    "#api_config = bolt4dspipe.api.list_profiles(filecfg=base_path+\"/cfg.json\")\n",
    "\n",
    "pipe = bolt4dspipe.PipeLocal(\"v1\",profile=\"onprem\",filecfg=base_path+\"/cfg.json\")\n",
    "pipe.scan_local(sortby=\"mod\")[-1]"
   ]
  },
  {
   "cell_type": "code",
   "execution_count": 45,
   "metadata": {},
   "outputs": [],
   "source": [
    "pipe.import_file(\"overview.png\", move=False)"
   ]
  },
  {
   "cell_type": "code",
   "execution_count": 23,
   "metadata": {},
   "outputs": [],
   "source": [
    "#api_config"
   ]
  },
  {
   "cell_type": "code",
   "execution_count": 48,
   "metadata": {},
   "outputs": [
    {
     "data": {
      "text/plain": [
       "{'filerepo': '/Users/leepand/Downloads/github/bolt4ds/data/files/onprem',\n",
       " 'server': 'https://pipe.databolt.tech',\n",
       " 'filereporoot': '/Users/leepand/Downloads/github/bolt4ds/data',\n",
       " 'filedb': '/Users/leepand/Downloads/github/bolt4ds/data/files/onprem/.filedb.json'}"
      ]
     },
     "execution_count": 48,
     "metadata": {},
     "output_type": "execute_result"
    }
   ],
   "source": [
    "bolt4dspipe.api.ConfigManager(profile=\"onprem\",filecfg=base_path+\"/cfg.json\").load()"
   ]
  },
  {
   "cell_type": "code",
   "execution_count": 50,
   "metadata": {},
   "outputs": [
    {
     "name": "stdout",
     "output_type": "stream",
     "text": [
      "/Users/leepand/Downloads/github/bolt4ds/data/files/onprem\n"
     ]
    }
   ],
   "source": [
    "api = bolt4dspipe.api.APILocal(profile=\"onprem\",filecfg=base_path+\"/cfg.json\")\n",
    "#api.move_repo(datapath)\n",
    "print(api.filerepo)"
   ]
  },
  {
   "cell_type": "code",
   "execution_count": 67,
   "metadata": {},
   "outputs": [
    {
     "data": {
      "text/plain": [
       "['v1', 'pipe2', 'pipe1']"
      ]
     },
     "execution_count": 67,
     "metadata": {},
     "output_type": "execute_result"
    }
   ],
   "source": [
    "api.list_local_pipes()"
   ]
  },
  {
   "cell_type": "code",
   "execution_count": 55,
   "metadata": {},
   "outputs": [
    {
     "data": {
      "text/plain": [
       "{'profile': 'onprem',\n",
       " 'configmgr': <bolt4ds.pipe.api.ConfigManager at 0x103f34790>,\n",
       " 'config': {'filerepo': '/Users/leepand/Downloads/github/bolt4ds/data/files/onprem',\n",
       "  'server': 'https://pipe.databolt.tech',\n",
       "  'filereporoot': '/Users/leepand/Downloads/github/bolt4ds/data',\n",
       "  'filedb': '/Users/leepand/Downloads/github/bolt4ds/data/files/onprem/.filedb.json'},\n",
       " 'cfg_profile': {'filerepo': '/Users/leepand/Downloads/github/bolt4ds/data/files/onprem',\n",
       "  'server': 'https://pipe.databolt.tech',\n",
       "  'filereporoot': '/Users/leepand/Downloads/github/bolt4ds/data',\n",
       "  'filedb': '/Users/leepand/Downloads/github/bolt4ds/data/files/onprem/.filedb.json'},\n",
       " 'cfg_filecfg': '/Users/leepand/Downloads/github/bolt4ds/data/cfg.json',\n",
       " 'filerepo': '/Users/leepand/Downloads/github/bolt4ds/data/files/onprem',\n",
       " 'dir': '/Users/leepand/Downloads/github/bolt4ds/data/files/onprem',\n",
       " 'dirpath': PosixPath('/Users/leepand/Downloads/github/bolt4ds/data/files/onprem'),\n",
       " 'key': '4f6186a5-026f-4e66-98c4-bbaf16d05103',\n",
       " 'encrypt_keys': ['location',\n",
       "  'readCredentials',\n",
       "  'writeCredentials',\n",
       "  'settings',\n",
       "  'files',\n",
       "  'readParams'],\n",
       " 'cnxn': <bolt4ds.pipe.utils.utils.ClientTiny at 0x100887710>,\n",
       " 'mode': 'local'}"
      ]
     },
     "execution_count": 55,
     "metadata": {},
     "output_type": "execute_result"
    }
   ],
   "source": [
    "api.__dict__"
   ]
  },
  {
   "cell_type": "markdown",
   "metadata": {},
   "source": [
    "pipe：操作文件\n",
    "api 查看pipe信息"
   ]
  },
  {
   "cell_type": "code",
   "execution_count": 65,
   "metadata": {},
   "outputs": [
    {
     "data": {
      "text/plain": [
       "'/Users/leepand/Downloads/github/bolt4ds/data/cfg.json'"
      ]
     },
     "execution_count": 65,
     "metadata": {},
     "output_type": "execute_result"
    }
   ],
   "source": [
    "api.cfg_filecfg"
   ]
  },
  {
   "cell_type": "code",
   "execution_count": null,
   "metadata": {},
   "outputs": [],
   "source": []
  }
 ],
 "metadata": {
  "kernelspec": {
   "display_name": "Python 3",
   "language": "python",
   "name": "python3"
  },
  "language_info": {
   "codemirror_mode": {
    "name": "ipython",
    "version": 3
   },
   "file_extension": ".py",
   "mimetype": "text/x-python",
   "name": "python",
   "nbconvert_exporter": "python",
   "pygments_lexer": "ipython3",
   "version": "3.7.7"
  }
 },
 "nbformat": 4,
 "nbformat_minor": 4
}
