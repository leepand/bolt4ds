{
 "cells": [
  {
   "cell_type": "code",
   "execution_count": 1,
   "metadata": {},
   "outputs": [],
   "source": [
    "import pandas as pd\n",
    "import csv\n",
    "\n",
    "path_base=\"/Users/leepand/Downloads/github/rec-a-sketch-master\"\n",
    "df_likes = pd.read_csv(path_base+'/data/model_likes_anon.psv',\n",
    "                 sep='|', quoting=csv.QUOTE_MINIMAL,\n",
    "                 quotechar='\\\\')\n",
    "df_likes.drop_duplicates(inplace=True)\n",
    "df_likes.head()\n",
    "\n",
    "\n",
    "sideinfo = pd.read_csv(path_base+'/data/model_feats.psv',\n",
    "                       sep='|', quoting=csv.QUOTE_MINIMAL,\n",
    "                       quotechar='\\\\')"
   ]
  },
  {
   "cell_type": "code",
   "execution_count": 2,
   "metadata": {},
   "outputs": [
    {
     "data": {
      "text/html": [
       "<div>\n",
       "<style scoped>\n",
       "    .dataframe tbody tr th:only-of-type {\n",
       "        vertical-align: middle;\n",
       "    }\n",
       "\n",
       "    .dataframe tbody tr th {\n",
       "        vertical-align: top;\n",
       "    }\n",
       "\n",
       "    .dataframe thead th {\n",
       "        text-align: right;\n",
       "    }\n",
       "</style>\n",
       "<table border=\"1\" class=\"dataframe\">\n",
       "  <thead>\n",
       "    <tr style=\"text-align: right;\">\n",
       "      <th></th>\n",
       "      <th>mid</th>\n",
       "      <th>type</th>\n",
       "      <th>value</th>\n",
       "    </tr>\n",
       "  </thead>\n",
       "  <tbody>\n",
       "    <tr>\n",
       "      <th>0</th>\n",
       "      <td>5dcebcfaedbd4e7b8a27bd1ae55f1ac3</td>\n",
       "      <td>category</td>\n",
       "      <td>Characters</td>\n",
       "    </tr>\n",
       "    <tr>\n",
       "      <th>1</th>\n",
       "      <td>5dcebcfaedbd4e7b8a27bd1ae55f1ac3</td>\n",
       "      <td>category</td>\n",
       "      <td>Gaming</td>\n",
       "    </tr>\n",
       "    <tr>\n",
       "      <th>2</th>\n",
       "      <td>5dcebcfaedbd4e7b8a27bd1ae55f1ac3</td>\n",
       "      <td>tag</td>\n",
       "      <td>3dsmax</td>\n",
       "    </tr>\n",
       "    <tr>\n",
       "      <th>3</th>\n",
       "      <td>5dcebcfaedbd4e7b8a27bd1ae55f1ac3</td>\n",
       "      <td>tag</td>\n",
       "      <td>noel</td>\n",
       "    </tr>\n",
       "    <tr>\n",
       "      <th>4</th>\n",
       "      <td>5dcebcfaedbd4e7b8a27bd1ae55f1ac3</td>\n",
       "      <td>tag</td>\n",
       "      <td>loli</td>\n",
       "    </tr>\n",
       "  </tbody>\n",
       "</table>\n",
       "</div>"
      ],
      "text/plain": [
       "                                mid      type       value\n",
       "0  5dcebcfaedbd4e7b8a27bd1ae55f1ac3  category  Characters\n",
       "1  5dcebcfaedbd4e7b8a27bd1ae55f1ac3  category      Gaming\n",
       "2  5dcebcfaedbd4e7b8a27bd1ae55f1ac3       tag      3dsmax\n",
       "3  5dcebcfaedbd4e7b8a27bd1ae55f1ac3       tag        noel\n",
       "4  5dcebcfaedbd4e7b8a27bd1ae55f1ac3       tag        loli"
      ]
     },
     "execution_count": 2,
     "metadata": {},
     "output_type": "execute_result"
    }
   ],
   "source": [
    "sideinfo.head()"
   ]
  },
  {
   "cell_type": "code",
   "execution_count": 3,
   "metadata": {},
   "outputs": [
    {
     "name": "stderr",
     "output_type": "stream",
     "text": [
      "/Users/leepand/miniconda3/lib/python3.7/site-packages/lightfm/_lightfm_fast.py:9: UserWarning: LightFM was compiled without OpenMP support. Only a single thread will be used.\n",
      "  warnings.warn('LightFM was compiled without OpenMP support. '\n"
     ]
    },
    {
     "name": "stdout",
     "output_type": "stream",
     "text": [
      "Num users: 62583, num_items 28806.\n",
      "(28806, 21951)\n"
     ]
    }
   ],
   "source": [
    "#from lightfm.data import Dataset\n",
    "from bolt4ds.recsys import Dataset\n",
    "\n",
    "data = Dataset()\n",
    "data.fit(df_likes.uid.unique(), df_likes.mid.unique())\n",
    "num_users, num_items = data.interactions_shape()\n",
    "print('Num users: {}, num_items {}.'.format(num_users, num_items))\n",
    "\n",
    "\n",
    "interactions_matrix,weights_matrix = data.build_interactions([(i[1],i[0])for i in df_likes.drop(['modelname'], axis = 1).values])\n",
    "\n",
    "item_feats = data.buid_sparse_item_features(sideinfo)"
   ]
  },
  {
   "cell_type": "code",
   "execution_count": 108,
   "metadata": {},
   "outputs": [
    {
     "data": {
      "text/plain": [
       "{0, 218, 312, 3047}"
      ]
     },
     "execution_count": 108,
     "metadata": {},
     "output_type": "execute_result"
    }
   ],
   "source": [
    "user_items =interactions_matrix \n",
    "t=user_items.tocsr()[0].indices\n",
    "\n",
    "liked = set()\n",
    "liked.update(t)\n",
    "liked"
   ]
  },
  {
   "cell_type": "code",
   "execution_count": 68,
   "metadata": {},
   "outputs": [
    {
     "name": "stdout",
     "output_type": "stream",
     "text": [
      "0.023705005645751953\n"
     ]
    }
   ],
   "source": [
    "import time\n",
    "t1=time.time()\n",
    "item_feature_names = getattr(item_features, 'columns', None)\n",
    "item_feat_csr = item_features\\\n",
    "            .loc[:, item_feature_names]\\\n",
    "            .reindex(item_ids, axis=0)\\\n",
    "            .data\n",
    "item_feat_csr\n",
    "print(time.time()-t1)"
   ]
  },
  {
   "cell_type": "code",
   "execution_count": 4,
   "metadata": {},
   "outputs": [],
   "source": [
    "from web.py3helpers import (\n",
    "    is_iter,\n",
    "    iteritems,\n",
    "    itervalues,\n",
    ")\n",
    "\n",
    "def dictreverse(mapping):\n",
    "    \"\"\"\n",
    "    Returns a new dictionary with keys and values swapped.\n",
    "        >>> dictreverse({1: 2, 3: 4})\n",
    "        {2: 1, 4: 3}\n",
    "    \"\"\"\n",
    "    return dict([(value, key) for (key, value) in iteritems(mapping)])\n",
    "\n",
    "items_mapping  = data.mapping()[2]\n",
    "item_ids = dictreverse(items_mapping)\n",
    "idx_to_mid = item_ids"
   ]
  },
  {
   "cell_type": "code",
   "execution_count": 14,
   "metadata": {},
   "outputs": [],
   "source": [
    "import bolt4ds.sparsity as sp3\n",
    "import numpy as np\n",
    "from bolt4ds.recsys import LFMRecommender\n",
    "\n",
    "test=LFMRecommender(indicators=\"both\",loss='warp', random_state=2020)\n",
    "\n",
    "test.fit_partial(sp3.SparseFrame(interactions_matrix))\n",
    "items = df_likes.mid.index.unique()\n",
    "#df_likes.mid.unique()\n",
    "idx_to_mid = item_ids\n"
   ]
  },
  {
   "cell_type": "code",
   "execution_count": 109,
   "metadata": {},
   "outputs": [
    {
     "name": "stdout",
     "output_type": "stream",
     "text": [
      "1.25 s ± 49.6 ms per loop (mean ± std. dev. of 7 runs, 1 loop each)\n"
     ]
    }
   ],
   "source": [
    "%%timeit\n",
    "scores = test.predict_online(user_id=600000000, item_ids=np.arange(n_items), item_features=None,\n",
    "                             user_features=None, num_threads=5, use_baseline=False)\n",
    "\n",
    "i_idx = [x for x in np.argsort(-scores)]\n",
    "scores\n",
    "i_idx[1:20]"
   ]
  },
  {
   "cell_type": "code",
   "execution_count": 62,
   "metadata": {},
   "outputs": [
    {
     "data": {
      "text/plain": [
       "[0, 13, 2, 6, 7, 10, 3, 12, 8, 16, 11, 17, 30, 5, 33, 15, 14, 37, 9]"
      ]
     },
     "execution_count": 62,
     "metadata": {},
     "output_type": "execute_result"
    }
   ],
   "source": [
    "#%%timeit\n",
    "scores = test.predict(0, np.arange(n_items),\n",
    "                               None, None,\n",
    "                               4)\n",
    "scores\n",
    "i_idx = [x for x in np.argsort(-scores)]\n",
    "i_idx[1:20]"
   ]
  },
  {
   "cell_type": "code",
   "execution_count": 58,
   "metadata": {},
   "outputs": [
    {
     "data": {
      "text/plain": [
       "array([ 5.00066233,  3.34672093,  4.5518322 , ...,  1.24682033,\n",
       "       -0.84083492, -0.44999784])"
      ]
     },
     "execution_count": 58,
     "metadata": {},
     "output_type": "execute_result"
    }
   ],
   "source": [
    "#%%timeit\n",
    "scores2 = test2.predict(2, list(idx_to_mid.keys()), item_feats,\n",
    "                             None, 3)\n",
    "\n",
    "scores2"
   ]
  },
  {
   "cell_type": "code",
   "execution_count": 59,
   "metadata": {},
   "outputs": [
    {
     "data": {
      "text/plain": [
       "[589,\n",
       " 1415,\n",
       " 126,\n",
       " 178,\n",
       " 4318,\n",
       " 545,\n",
       " 252,\n",
       " 197,\n",
       " 3189,\n",
       " 16411,\n",
       " 658,\n",
       " 2589,\n",
       " 469,\n",
       " 42,\n",
       " 524,\n",
       " 142,\n",
       " 2029,\n",
       " 2828,\n",
       " 310]"
      ]
     },
     "execution_count": 59,
     "metadata": {},
     "output_type": "execute_result"
    }
   ],
   "source": [
    "[x for x in np.argsort(-scores2)][1:20]"
   ]
  },
  {
   "cell_type": "code",
   "execution_count": 55,
   "metadata": {},
   "outputs": [
    {
     "data": {
      "text/plain": [
       "[589,\n",
       " 178,\n",
       " 658,\n",
       " 126,\n",
       " 0,\n",
       " 2029,\n",
       " 9865,\n",
       " 1415,\n",
       " 545,\n",
       " 16411,\n",
       " 361,\n",
       " 42,\n",
       " 142,\n",
       " 37,\n",
       " 269,\n",
       " 197,\n",
       " 2589,\n",
       " 24509,\n",
       " 113]"
      ]
     },
     "execution_count": 55,
     "metadata": {},
     "output_type": "execute_result"
    }
   ],
   "source": [
    "[x for x in np.argsort(-scores3)][1:20]"
   ]
  },
  {
   "cell_type": "code",
   "execution_count": 53,
   "metadata": {},
   "outputs": [
    {
     "data": {
      "text/plain": [
       "0        5.959468\n",
       "1        5.257864\n",
       "2        5.363543\n",
       "3        3.776401\n",
       "4        4.671180\n",
       "           ...   \n",
       "28801   -3.117323\n",
       "28802   -1.069238\n",
       "28803    1.461367\n",
       "28804   -1.038598\n",
       "28805   -0.280147\n",
       "Length: 28806, dtype: float64"
      ]
     },
     "execution_count": 53,
     "metadata": {},
     "output_type": "execute_result"
    }
   ],
   "source": [
    "#scores3"
   ]
  },
  {
   "cell_type": "code",
   "execution_count": 6,
   "metadata": {},
   "outputs": [],
   "source": [
    "test2=LFMRecommender(indicators=\"both\",loss='warp', random_state=2020)\n",
    "item_features= sp3.SparseFrame(item_feats)\n",
    "test2.fit_partial(sp3.SparseFrame(interactions_matrix),item_features=item_features)\n"
   ]
  },
  {
   "cell_type": "code",
   "execution_count": 57,
   "metadata": {},
   "outputs": [
    {
     "name": "stdout",
     "output_type": "stream",
     "text": [
      "0.5223119258880615\n"
     ]
    }
   ],
   "source": [
    "#%%timeit\n",
    "import time\n",
    "t1=time.time()\n",
    "scores3 = test2.predict_online(user_id=2, item_ids= list(idx_to_mid.keys()), item_features=item_features,\n",
    "                             user_features=None, num_threads=3, use_baseline=False)\n",
    "\n",
    "scores3\n",
    "print(time.time()-t1)"
   ]
  },
  {
   "cell_type": "code",
   "execution_count": 30,
   "metadata": {},
   "outputs": [
    {
     "data": {
      "text/plain": [
       "array([    0,     1,     2, ..., 28803, 28804, 28805])"
      ]
     },
     "execution_count": 30,
     "metadata": {},
     "output_type": "execute_result"
    }
   ],
   "source": [
    "n_items=len(list(idx_to_mid.keys()))\n",
    "np.arange(n_items)"
   ]
  },
  {
   "cell_type": "code",
   "execution_count": 27,
   "metadata": {},
   "outputs": [
    {
     "data": {
      "text/plain": [
       "array([[ 0.05760053,  0.04967599,  0.04583591, ...,  0.03500086,\n",
       "        -0.14928071, -0.06391397],\n",
       "       [ 0.08932079,  0.14446905,  0.05778684, ..., -0.00580893,\n",
       "        -0.0772007 ,  0.07091177],\n",
       "       [-0.0582766 ,  0.00451397, -0.0826065 , ..., -0.1185465 ,\n",
       "         0.0602765 , -0.13355203],\n",
       "       ...,\n",
       "       [-0.05219976, -0.23332356,  0.12589337, ...,  0.11890989,\n",
       "        -0.05048256, -0.26423895],\n",
       "       [-0.07222652, -0.24586554,  0.00446317, ..., -0.2949972 ,\n",
       "         0.4593784 ,  0.34493247],\n",
       "       [-0.17191826, -0.09447052,  0.0347207 , ...,  0.267723  ,\n",
       "        -0.10988855,  0.03161732]], dtype=float32)"
      ]
     },
     "execution_count": 27,
     "metadata": {},
     "output_type": "execute_result"
    }
   ],
   "source": [
    "test2.item_embeddings"
   ]
  },
  {
   "cell_type": "code",
   "execution_count": 74,
   "metadata": {},
   "outputs": [],
   "source": [
    "import numpy as np\n",
    "from lightfm import LightFM\n",
    "\n",
    "class TrainLightFM:\n",
    "    def __init__(self):\n",
    "        pass\n",
    "        \n",
    "    def train_test_split(self, interactions, weights):\n",
    "        train_interactions, test_interactions = \\\n",
    "        cross_validation.random_train_test_split(\n",
    "            interactions, \n",
    "            random_state=np.random.RandomState(2019))\n",
    "        \n",
    "        train_weights, test_weights = \\\n",
    "        cross_validation.random_train_test_split(\n",
    "            weights, \n",
    "            random_state=np.random.RandomState(2019))\n",
    "        return train_interactions,\\\n",
    "    test_interactions, train_weights, test_weights\n",
    "    \n",
    "    def fit(self, interactions, weights,\n",
    "            item_features, user_features,\n",
    "            cross_validation=False,no_components=150,\n",
    "            learning_rate=0.05,\n",
    "            loss='warp',\n",
    "            random_state=2019,\n",
    "            verbose=True,\n",
    "            num_threads=4, epochs=5):\n",
    "        ################################\n",
    "        # Model building part\n",
    "        ################################\n",
    "\n",
    "        # define lightfm model by specifying hyper-parametre\n",
    "        # then fit the model with ineteractions matrix,\n",
    "        # item and user features\n",
    "        \n",
    "        model = LightFM(\n",
    "            no_components,\n",
    "            learning_rate,\n",
    "            loss=loss,\n",
    "            random_state=random_state)\n",
    "        model.fit(\n",
    "            interactions,\n",
    "            item_features=item_features,\n",
    "            user_features=user_features, sample_weight=weights,\n",
    "            epochs=epochs, num_threads=num_threads, verbose=verbose)\n",
    "        \n",
    "        return model"
   ]
  },
  {
   "cell_type": "code",
   "execution_count": 75,
   "metadata": {},
   "outputs": [],
   "source": [
    "train_lightfm = TrainLightFM()"
   ]
  },
  {
   "cell_type": "code",
   "execution_count": 76,
   "metadata": {},
   "outputs": [
    {
     "name": "stdout",
     "output_type": "stream",
     "text": [
      "Epoch 0\n",
      "Epoch 1\n",
      "Epoch 2\n",
      "Epoch 3\n",
      "Epoch 4\n"
     ]
    }
   ],
   "source": [
    "# finally build and trian our model\n",
    "interactions = interactions_matrix\n",
    "weights = weights_matrix\n",
    "questions_features = item_feats\n",
    "professional_features =None\n",
    "model = train_lightfm.fit(interactions,\n",
    "                          weights,\n",
    "                          questions_features,\n",
    "                          professional_features)"
   ]
  },
  {
   "cell_type": "code",
   "execution_count": 95,
   "metadata": {},
   "outputs": [
    {
     "ename": "ValueError",
     "evalue": "The user feature matrix specifies more features than there are estimated feature embeddings: 62583 vs 1000000001.",
     "output_type": "error",
     "traceback": [
      "\u001b[0;31m--------------------------------------------------------\u001b[0m",
      "\u001b[0;31mValueError\u001b[0m             Traceback (most recent call last)",
      "\u001b[0;32m<ipython-input-95-ebd7606bc9bd>\u001b[0m in \u001b[0;36m<module>\u001b[0;34m\u001b[0m\n\u001b[1;32m      5\u001b[0m     \u001b[0mlist\u001b[0m\u001b[0;34m(\u001b[0m\u001b[0midx_to_mid\u001b[0m\u001b[0;34m.\u001b[0m\u001b[0mkeys\u001b[0m\u001b[0;34m(\u001b[0m\u001b[0;34m)\u001b[0m\u001b[0;34m)\u001b[0m\u001b[0;34m,\u001b[0m\u001b[0;34m\u001b[0m\u001b[0;34m\u001b[0m\u001b[0m\n\u001b[1;32m      6\u001b[0m     \u001b[0mitem_features\u001b[0m\u001b[0;34m=\u001b[0m\u001b[0mquestions_features\u001b[0m\u001b[0;34m,\u001b[0m\u001b[0;34m\u001b[0m\u001b[0;34m\u001b[0m\u001b[0m\n\u001b[0;32m----> 7\u001b[0;31m     user_features=None)\n\u001b[0m\u001b[1;32m      8\u001b[0m \u001b[0;34m\u001b[0m\u001b[0m\n",
      "\u001b[0;32m~/miniconda3/lib/python3.7/site-packages/lightfm/lightfm.py\u001b[0m in \u001b[0;36mpredict\u001b[0;34m(self, user_ids, item_ids, item_features, user_features, num_threads)\u001b[0m\n\u001b[1;32m    717\u001b[0m                                                            \u001b[0mn_items\u001b[0m\u001b[0;34m,\u001b[0m\u001b[0;34m\u001b[0m\u001b[0;34m\u001b[0m\u001b[0m\n\u001b[1;32m    718\u001b[0m                                                            \u001b[0muser_features\u001b[0m\u001b[0;34m,\u001b[0m\u001b[0;34m\u001b[0m\u001b[0;34m\u001b[0m\u001b[0m\n\u001b[0;32m--> 719\u001b[0;31m                                                            item_features)\n\u001b[0m\u001b[1;32m    720\u001b[0m \u001b[0;34m\u001b[0m\u001b[0m\n\u001b[1;32m    721\u001b[0m         \u001b[0mlightfm_data\u001b[0m \u001b[0;34m=\u001b[0m \u001b[0mself\u001b[0m\u001b[0;34m.\u001b[0m\u001b[0m_get_lightfm_data\u001b[0m\u001b[0;34m(\u001b[0m\u001b[0;34m)\u001b[0m\u001b[0;34m\u001b[0m\u001b[0;34m\u001b[0m\u001b[0m\n",
      "\u001b[0;32m~/miniconda3/lib/python3.7/site-packages/lightfm/lightfm.py\u001b[0m in \u001b[0;36m_construct_feature_matrices\u001b[0;34m(self, n_users, n_items, user_features, item_features)\u001b[0m\n\u001b[1;32m    307\u001b[0m                                  'feature embeddings: {} vs {}.'.format(\n\u001b[1;32m    308\u001b[0m                                      \u001b[0mself\u001b[0m\u001b[0;34m.\u001b[0m\u001b[0muser_embeddings\u001b[0m\u001b[0;34m.\u001b[0m\u001b[0mshape\u001b[0m\u001b[0;34m[\u001b[0m\u001b[0;36m0\u001b[0m\u001b[0;34m]\u001b[0m\u001b[0;34m,\u001b[0m\u001b[0;34m\u001b[0m\u001b[0;34m\u001b[0m\u001b[0m\n\u001b[0;32m--> 309\u001b[0;31m                                      \u001b[0muser_features\u001b[0m\u001b[0;34m.\u001b[0m\u001b[0mshape\u001b[0m\u001b[0;34m[\u001b[0m\u001b[0;36m1\u001b[0m\u001b[0;34m]\u001b[0m\u001b[0;34m\u001b[0m\u001b[0;34m\u001b[0m\u001b[0m\n\u001b[0m\u001b[1;32m    310\u001b[0m                                  ))\n\u001b[1;32m    311\u001b[0m \u001b[0;34m\u001b[0m\u001b[0m\n",
      "\u001b[0;31mValueError\u001b[0m: The user feature matrix specifies more features than there are estimated feature embeddings: 62583 vs 1000000001."
     ]
    }
   ],
   "source": [
    "#%%timeit\n",
    "professional_id = 1000000000\n",
    "score = model.predict(\n",
    "    professional_id,\n",
    "    list(idx_to_mid.keys()), \n",
    "    item_features=questions_features,\n",
    "    user_features=None)\n",
    "        \n"
   ]
  },
  {
   "cell_type": "code",
   "execution_count": 82,
   "metadata": {},
   "outputs": [
    {
     "name": "stderr",
     "output_type": "stream",
     "text": [
      "/Users/leepand/miniconda3/lib/python3.7/site-packages/ipykernel_launcher.py:3: DeprecationWarning: The default dtype for empty Series will be 'object' instead of 'float64' in a future version. Specify a dtype explicitly to silence this warning.\n",
      "  This is separate from the ipykernel package so we can avoid doing imports until\n"
     ]
    },
    {
     "data": {
      "text/plain": [
       "recommendation_score    [9.977973937988281, 5.214651584625244, 1.81977...\n",
       "dtype: object"
      ]
     },
     "execution_count": 82,
     "metadata": {},
     "output_type": "execute_result"
    }
   ],
   "source": [
    "num_prediction = 10\n",
    "import pandas as pd\n",
    "questions_for_prediction=pd.Series([])\n",
    "questions_for_prediction['recommendation_score'] = score\n",
    "questions_for_prediction = questions_for_prediction.sort_values(\n",
    "    ascending=False)[:num_prediction]\n",
    "questions_for_prediction"
   ]
  },
  {
   "cell_type": "code",
   "execution_count": 80,
   "metadata": {},
   "outputs": [
    {
     "data": {
      "text/plain": [
       "recommendation_score    [9.977973937988281, 5.214651584625244, 1.81977...\n",
       "dtype: object"
      ]
     },
     "execution_count": 80,
     "metadata": {},
     "output_type": "execute_result"
    }
   ],
   "source": [
    "questions_for_prediction"
   ]
  },
  {
   "cell_type": "code",
   "execution_count": 83,
   "metadata": {},
   "outputs": [
    {
     "data": {
      "text/plain": [
       "array([ 9.97797394,  5.21465158,  1.81977296, ..., -3.61874223,\n",
       "       -1.08967376, -1.40748131])"
      ]
     },
     "execution_count": 83,
     "metadata": {},
     "output_type": "execute_result"
    }
   ],
   "source": [
    "score"
   ]
  },
  {
   "cell_type": "code",
   "execution_count": 84,
   "metadata": {},
   "outputs": [
    {
     "data": {
      "text/plain": [
       "[671,\n",
       " 8835,\n",
       " 38,\n",
       " 28,\n",
       " 9287,\n",
       " 4421,\n",
       " 10501,\n",
       " 573,\n",
       " 46,\n",
       " 740,\n",
       " 208,\n",
       " 959,\n",
       " 1217,\n",
       " 3822,\n",
       " 1775,\n",
       " 93,\n",
       " 4571,\n",
       " 3241,\n",
       " 7214]"
      ]
     },
     "execution_count": 84,
     "metadata": {},
     "output_type": "execute_result"
    }
   ],
   "source": [
    "[x for x in np.argsort(-score)][1:20]"
   ]
  },
  {
   "cell_type": "code",
   "execution_count": 90,
   "metadata": {},
   "outputs": [
    {
     "data": {
      "text/plain": [
       "10.079724311828613"
      ]
     },
     "execution_count": 90,
     "metadata": {},
     "output_type": "execute_result"
    }
   ],
   "source": [
    "score[7214]"
   ]
  },
  {
   "cell_type": "code",
   "execution_count": null,
   "metadata": {},
   "outputs": [],
   "source": [
    "class LightFMRecommendations:\n",
    "    \"\"\"\n",
    "    Make prediction given model and professional ids\n",
    "    \"\"\"\n",
    "    def __init__(self, lightfm_model,\n",
    "                 professionals_features,\n",
    "                 questions_features,\n",
    "                 questions,professionals,merge):\n",
    "        self.model = lightfm_model\n",
    "        self.professionals_features = professionals_features\n",
    "        self.questions_features = questions_features\n",
    "        self.questions = questions\n",
    "        self.professionals = professionals\n",
    "        self.merge = merge\n",
    "        \n",
    "    def previous_answered_questions(self, professionals_id):\n",
    "        previous_q_id_num = (\n",
    "            self.merge.loc[\\\n",
    "                self.merge['professionals_id_num'] == \\\n",
    "                professionals_id]['questions_id_num'])\n",
    "        \n",
    "        previous_answered_questions = self.questions.loc[\\\n",
    "            self.questions['questions_id_num'].isin(\n",
    "            previous_q_id_num)]\n",
    "        return previous_answered_questions\n",
    "        \n",
    "    \n",
    "    def _filter_question_by_pro(self, professionals_id):\n",
    "        \"\"\"Drop questions that professional already answer\"\"\"\n",
    "        previous_answered_questions = \\\n",
    "        self.previous_answered_questions(professionals_id)\n",
    "        \n",
    "        discard_qu_id = \\\n",
    "        previous_answered_questions['questions_id_num'].values.tolist()\n",
    "        \n",
    "        questions_for_prediction = \\\n",
    "        self.questions.loc[~self.questions['questions_id_num'].isin(discard_qu_id)]\n",
    "        \n",
    "        return questions_for_prediction\n",
    "    \n",
    "    def _filter_question_by_date(self, questions, start_date, end_date):\n",
    "        mask = \\\n",
    "        (questions['questions_date_added'] > start_date) & \\\n",
    "        (questions['questions_date_added'] <= end_date)\n",
    "        \n",
    "        return questions.loc[mask]\n",
    "        \n",
    "    \n",
    "    def recommend_by_uid_general(self,\n",
    "                                    professional_id,\n",
    "                                    num_prediction=8):\n",
    "        questions_for_prediction = self._filter_question_by_pro(professional_id)\n",
    "        score = self.model.predict(\n",
    "            professional_id,\n",
    "            questions_for_prediction['questions_id_num'].values.tolist(), \n",
    "            item_features=self.questions_features,\n",
    "            user_features=self.professionals_features)\n",
    "        \n",
    "        questions_for_prediction['recommendation_score'] = score\n",
    "        questions_for_prediction = questions_for_prediction.sort_values(\n",
    "            by='recommendation_score', ascending=False)[:num_prediction]\n",
    "        return questions_for_prediction\n",
    "    \n",
    "    def recommend_by_uid_frequency_date_range(self,\n",
    "                                                 professional_id,\n",
    "                                                 start_date,\n",
    "                                                 end_date,\n",
    "                                                 num_prediction=8):\n",
    "        questions_for_prediction = \\\n",
    "        self._filter_question_by_pro(professional_id)\n",
    "        \n",
    "        start_date = datetime.strptime(start_date, '%Y-%m-%d')\n",
    "        end_date = datetime.strptime(end_date, '%Y-%m-%d')\n",
    "        \n",
    "        questions_for_prediction = self._filter_question_by_date(\n",
    "            questions_for_prediction, start_date, end_date)\n",
    "        \n",
    "        score = self.model.predict(\n",
    "            professional_id,\n",
    "            questions_for_prediction['questions_id_num'].values.tolist(), \n",
    "            item_features=self.questions_features,\n",
    "            user_features=self.professionals_features)\n",
    "        \n",
    "        questions_for_prediction['recommendation_score'] = score\n",
    "        questions_for_prediction = questions_for_prediction.sort_values(\n",
    "            by='recommendation_score', ascending=False)[:num_prediction]\n",
    "        return questions_for_prediction"
   ]
  }
 ],
 "metadata": {
  "kernelspec": {
   "display_name": "Python 3",
   "language": "python",
   "name": "python3"
  },
  "language_info": {
   "codemirror_mode": {
    "name": "ipython",
    "version": 3
   },
   "file_extension": ".py",
   "mimetype": "text/x-python",
   "name": "python",
   "nbconvert_exporter": "python",
   "pygments_lexer": "ipython3",
   "version": "3.7.7"
  }
 },
 "nbformat": 4,
 "nbformat_minor": 4
}
