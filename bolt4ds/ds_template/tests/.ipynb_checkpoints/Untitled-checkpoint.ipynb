{
 "cells": [
  {
   "cell_type": "code",
   "execution_count": 2,
   "metadata": {},
   "outputs": [
    {
     "name": "stdout",
     "output_type": "stream",
     "text": [
      "dspipe/run.py\n",
      "dspipe/cfg.py\n",
      "dspipe/tasks.py\n",
      "dspipe/__init__.py\n",
      "dspipe/visualize.py\n",
      "dspipe/export.py\n",
      "setup.py\n",
      "dspipe/README.md\n",
      "dspipe/reports/README.md\n"
     ]
    }
   ],
   "source": [
    "from  dstemplate import script\n"
   ]
  },
  {
   "cell_type": "code",
   "execution_count": null,
   "metadata": {},
   "outputs": [],
   "source": []
  }
 ],
 "metadata": {
  "kernelspec": {
   "display_name": "Python 3",
   "language": "python",
   "name": "python3"
  },
  "language_info": {
   "codemirror_mode": {
    "name": "ipython",
    "version": 3
   },
   "file_extension": ".py",
   "mimetype": "text/x-python",
   "name": "python",
   "nbconvert_exporter": "python",
   "pygments_lexer": "ipython3",
   "version": "3.7.4"
  }
 },
 "nbformat": 4,
 "nbformat_minor": 4
}
