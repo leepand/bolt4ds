{
 "cells": [
  {
   "cell_type": "code",
   "execution_count": 7,
   "metadata": {},
   "outputs": [],
   "source": [
    "#!/usr/bin/env python3\n",
    "import base64\n",
    "import gzip\n",
    "from pathlib import Path\n",
    "from algolink.core.utils.store.file_utils import exists,mkdir\n",
    "\n",
    "def encode_file(path: Path) -> str:\n",
    "    compressed = gzip.compress(path.read_bytes(), compresslevel=9)\n",
    "    return base64.b64encode(compressed).decode('utf-8')\n",
    "\n",
    "path_mk=\"build\"\n",
    "if not exists(path_mk):\n",
    "    mkdir(path_mk)\n",
    "\n",
    "def build_script():\n",
    "    to_encode = list(Path('dspipe').glob('*.py')) + [Path('setup.py')]\n",
    "    file_data = {str(path): encode_file(path) for path in to_encode}\n",
    "    template = Path('script_template.py').read_text('utf8')\n",
    "    Path('build/__init__.py').write_text(\"\")\n",
    "    Path('build/script.py').write_text(\n",
    "        template.replace('{file_data}', str(file_data)),\n",
    "        encoding='utf8')\n",
    "\n",
    "\n",
    "if __name__ == '__main__':\n",
    "    build_script()"
   ]
  },
  {
   "cell_type": "code",
   "execution_count": 2,
   "metadata": {},
   "outputs": [
    {
     "name": "stdout",
     "output_type": "stream",
     "text": [
      "Writing script_template.py\n"
     ]
    }
   ],
   "source": [
    "%%file script_template.py\n",
    "import gzip\n",
    "import base64\n",
    "import os\n",
    "from pathlib import Path\n",
    "from typing import Dict\n",
    "\n",
    "\n",
    "# this is base64 encoded source code\n",
    "file_data: Dict = {file_data}\n",
    "\n",
    "\n",
    "for path, encoded in file_data.items():\n",
    "    print(path)\n",
    "    path = Path(path)\n",
    "    path.parent.mkdir(exist_ok=True)\n",
    "    path.write_bytes(gzip.decompress(base64.b64decode(encoded)))\n",
    "\n",
    "\n",
    "def run(command):\n",
    "    os.system('export PYTHONPATH=${PYTHONPATH}:/dspipe/working && ' + command)\n",
    "\n",
    "\n",
    "run('python setup.py develop --install-dir /dspipe/working')\n",
    "run('python dspipe/run.py')"
   ]
  },
  {
   "cell_type": "code",
   "execution_count": 8,
   "metadata": {},
   "outputs": [
    {
     "name": "stdout",
     "output_type": "stream",
     "text": [
      "Processing /Users/leepand/Downloads/github/bolt4ds/bolt4ds/ds_template\n",
      "Building wheels for collected packages: dspipe\n",
      "  Building wheel for dspipe (setup.py) ... \u001b[?25ldone\n",
      "\u001b[?25h  Created wheel for dspipe: filename=dspipe-0.1-cp37-none-any.whl size=6960 sha256=2e60ac256527caf6934219e92a8db4c0353646664cdd9dc883642e09a183411b\n",
      "  Stored in directory: /private/var/folders/sl/gjmcfy096kqcf_rrr4_8tvlh0000gn/T/pip-ephem-wheel-cache-hm23dlba/wheels/5c/40/cd/18ca1d95592541c584ac2b01150ff8cd32116cd8c53c26b5a8\n",
      "Successfully built dspipe\n",
      "Installing collected packages: dspipe\n",
      "  Found existing installation: dspipe 0.1\n",
      "    Uninstalling dspipe-0.1:\n",
      "      Successfully uninstalled dspipe-0.1\n",
      "Successfully installed dspipe-0.1\n"
     ]
    }
   ],
   "source": [
    "!pip install ."
   ]
  },
  {
   "cell_type": "code",
   "execution_count": null,
   "metadata": {},
   "outputs": [],
   "source": []
  }
 ],
 "metadata": {
  "kernelspec": {
   "display_name": "Python 3",
   "language": "python",
   "name": "python3"
  },
  "language_info": {
   "codemirror_mode": {
    "name": "ipython",
    "version": 3
   },
   "file_extension": ".py",
   "mimetype": "text/x-python",
   "name": "python",
   "nbconvert_exporter": "python",
   "pygments_lexer": "ipython3",
   "version": "3.7.4"
  }
 },
 "nbformat": 4,
 "nbformat_minor": 4
}
