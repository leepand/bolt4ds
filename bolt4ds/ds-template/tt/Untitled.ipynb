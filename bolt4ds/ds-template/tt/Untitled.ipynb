{
 "cells": [
  {
   "cell_type": "code",
   "execution_count": 4,
   "metadata": {},
   "outputs": [],
   "source": [
    "#!/usr/bin/env python3\n",
    "import base64\n",
    "import gzip\n",
    "from pathlib import Path\n",
    "\n",
    "\n",
    "def encode_file(path: Path) -> str:\n",
    "    compressed = gzip.compress(path.read_bytes(), compresslevel=9)\n",
    "    return base64.b64encode(compressed).decode('utf-8')\n",
    "\n",
    "\n",
    "def build_script():\n",
    "    to_encode = list(Path('tasks').glob('*.py')) + [Path('run.py')]\n",
    "    file_data = {str(path): encode_file(path) for path in to_encode}\n",
    "    template = Path('script_template.py').read_text('utf8')\n",
    "    Path('build/script.py').write_text(\n",
    "        template.replace('{file_data}', str(file_data)),\n",
    "        encoding='utf8')\n",
    "\n",
    "\n",
    "if __name__ == '__main__':\n",
    "    build_script()"
   ]
  },
  {
   "cell_type": "code",
   "execution_count": null,
   "metadata": {},
   "outputs": [],
   "source": []
  }
 ],
 "metadata": {
  "kernelspec": {
   "display_name": "Python 3",
   "language": "python",
   "name": "python3"
  },
  "language_info": {
   "codemirror_mode": {
    "name": "ipython",
    "version": 3
   },
   "file_extension": ".py",
   "mimetype": "text/x-python",
   "name": "python",
   "nbconvert_exporter": "python",
   "pygments_lexer": "ipython3",
   "version": "3.7.4"
  }
 },
 "nbformat": 4,
 "nbformat_minor": 4
}
