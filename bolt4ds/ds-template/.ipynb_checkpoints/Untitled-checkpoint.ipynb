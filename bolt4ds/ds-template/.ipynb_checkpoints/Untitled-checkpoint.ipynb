{
 "cells": [
  {
   "cell_type": "code",
   "execution_count": 2,
   "metadata": {},
   "outputs": [
    {
     "name": "stderr",
     "output_type": "stream",
     "text": [
      "INFO: Informed scheduler that task   TaskTrain_True_2020_07_01_2020_01_01_e3d119a8a0   has status   PENDING\n",
      "INFO: Informed scheduler that task   TaskPreprocess_True_2020_07_01_2020_01_01_e3d119a8a0   has status   PENDING\n",
      "INFO: Informed scheduler that task   TaskGetData_2020_07_01_2020_01_01_localhost_00dca8d161   has status   PENDING\n",
      "INFO: Done scheduling tasks\n",
      "INFO: Running Worker with 1 processes\n",
      "INFO: [pid 63003] Worker Worker(salt=665974781, workers=1, host=localhost, username=leepand, pid=63003) running   TaskGetData(dt_start=2020-01-01, dt_end=2020-07-01, scheduler_host=localhost, scheduler_port=8082)\n",
      "INFO: [pid 63003] Worker Worker(salt=665974781, workers=1, host=localhost, username=leepand, pid=63003) done      TaskGetData(dt_start=2020-01-01, dt_end=2020-07-01, scheduler_host=localhost, scheduler_port=8082)\n",
      "INFO: Informed scheduler that task   TaskGetData_2020_07_01_2020_01_01_localhost_00dca8d161   has status   DONE\n",
      "INFO: [pid 63003] Worker Worker(salt=665974781, workers=1, host=localhost, username=leepand, pid=63003) running   TaskPreprocess(dt_start=2020-01-01, dt_end=2020-07-01, scheduler_host=localhost, scheduler_port=8082, do_preprocess=True)\n",
      "INFO: [pid 63003] Worker Worker(salt=665974781, workers=1, host=localhost, username=leepand, pid=63003) done      TaskPreprocess(dt_start=2020-01-01, dt_end=2020-07-01, scheduler_host=localhost, scheduler_port=8082, do_preprocess=True)\n",
      "INFO: Informed scheduler that task   TaskPreprocess_True_2020_07_01_2020_01_01_e3d119a8a0   has status   DONE\n",
      "INFO: [pid 63003] Worker Worker(salt=665974781, workers=1, host=localhost, username=leepand, pid=63003) running   TaskTrain(dt_start=2020-01-01, dt_end=2020-07-01, scheduler_host=localhost, scheduler_port=8082, do_preprocess=True)\n"
     ]
    },
    {
     "name": "stdout",
     "output_type": "stream",
     "text": [
      "\n",
      "└─--[TaskTrain-{'dt_start': '2020-01-01', 'dt_end': '2020-07-01', 'scheduler_host': 'localhost', 'scheduler_port': '8082', 'do_preprocess': 'True'} (\u001b[94mPENDING\u001b[0m)]\n",
      "   └─--[TaskPreprocess-{'dt_start': '2020-01-01', 'dt_end': '2020-07-01', 'scheduler_host': 'localhost', 'scheduler_port': '8082', 'do_preprocess': 'True'} (\u001b[94mPENDING\u001b[0m)]\n",
      "      └─--[TaskGetData-{'dt_start': '2020-01-01', 'dt_end': '2020-07-01', 'scheduler_host': 'localhost', 'scheduler_port': '8082'} (\u001b[94mPENDING\u001b[0m)]\n"
     ]
    },
    {
     "name": "stderr",
     "output_type": "stream",
     "text": [
      "INFO: [pid 63003] Worker Worker(salt=665974781, workers=1, host=localhost, username=leepand, pid=63003) done      TaskTrain(dt_start=2020-01-01, dt_end=2020-07-01, scheduler_host=localhost, scheduler_port=8082, do_preprocess=True)\n",
      "INFO: Informed scheduler that task   TaskTrain_True_2020_07_01_2020_01_01_e3d119a8a0   has status   DONE\n",
      "INFO: Worker Worker(salt=665974781, workers=1, host=localhost, username=leepand, pid=63003) was stopped. Shutting down Keep-Alive thread\n",
      "INFO: \n",
      "===== Luigi Execution Summary =====\n",
      "\n",
      "Scheduled 3 tasks of which:\n",
      "* 3 ran successfully:\n",
      "    - 1 TaskGetData(dt_start=2020-01-01, dt_end=2020-07-01, scheduler_host=localhost, scheduler_port=8082)\n",
      "    - 1 TaskPreprocess(dt_start=2020-01-01, dt_end=2020-07-01, scheduler_host=localhost, scheduler_port=8082, do_preprocess=True)\n",
      "    - 1 TaskTrain(dt_start=2020-01-01, dt_end=2020-07-01, scheduler_host=localhost, scheduler_port=8082, do_preprocess=True)\n",
      "\n",
      "This progress looks :) because there were no failed tasks or missing dependencies\n",
      "\n",
      "===== Luigi Execution Summary =====\n",
      "\n"
     ]
    },
    {
     "name": "stdout",
     "output_type": "stream",
     "text": [
      "1.0\n"
     ]
    },
    {
     "name": "stderr",
     "output_type": "stream",
     "text": [
      "INFO: Informed scheduler that task   TaskTrain_False_2020_07_01_2020_01_01_e4af6e3f49   has status   PENDING\n",
      "INFO: Informed scheduler that task   TaskPreprocess_False_2020_07_01_2020_01_01_e4af6e3f49   has status   PENDING\n",
      "INFO: Informed scheduler that task   TaskGetData_2020_07_01_2020_01_01_localhost_00dca8d161   has status   DONE\n",
      "INFO: Done scheduling tasks\n",
      "INFO: Running Worker with 1 processes\n",
      "INFO: [pid 63003] Worker Worker(salt=617729748, workers=1, host=localhost, username=leepand, pid=63003) running   TaskPreprocess(dt_start=2020-01-01, dt_end=2020-07-01, scheduler_host=localhost, scheduler_port=8082, do_preprocess=False)\n",
      "INFO: [pid 63003] Worker Worker(salt=617729748, workers=1, host=localhost, username=leepand, pid=63003) done      TaskPreprocess(dt_start=2020-01-01, dt_end=2020-07-01, scheduler_host=localhost, scheduler_port=8082, do_preprocess=False)\n",
      "INFO: Informed scheduler that task   TaskPreprocess_False_2020_07_01_2020_01_01_e4af6e3f49   has status   DONE\n",
      "INFO: [pid 63003] Worker Worker(salt=617729748, workers=1, host=localhost, username=leepand, pid=63003) running   TaskTrain(dt_start=2020-01-01, dt_end=2020-07-01, scheduler_host=localhost, scheduler_port=8082, do_preprocess=False)\n",
      "INFO: [pid 63003] Worker Worker(salt=617729748, workers=1, host=localhost, username=leepand, pid=63003) done      TaskTrain(dt_start=2020-01-01, dt_end=2020-07-01, scheduler_host=localhost, scheduler_port=8082, do_preprocess=False)\n",
      "INFO: Informed scheduler that task   TaskTrain_False_2020_07_01_2020_01_01_e4af6e3f49   has status   DONE\n",
      "INFO: Worker Worker(salt=617729748, workers=1, host=localhost, username=leepand, pid=63003) was stopped. Shutting down Keep-Alive thread\n",
      "INFO: \n",
      "===== Luigi Execution Summary =====\n",
      "\n",
      "Scheduled 3 tasks of which:\n",
      "* 1 complete ones were encountered:\n",
      "    - 1 TaskGetData(dt_start=2020-01-01, dt_end=2020-07-01, scheduler_host=localhost, scheduler_port=8082)\n",
      "* 2 ran successfully:\n",
      "    - 1 TaskPreprocess(dt_start=2020-01-01, dt_end=2020-07-01, scheduler_host=localhost, scheduler_port=8082, do_preprocess=False)\n",
      "    - 1 TaskTrain(dt_start=2020-01-01, dt_end=2020-07-01, scheduler_host=localhost, scheduler_port=8082, do_preprocess=False)\n",
      "\n",
      "This progress looks :) because there were no failed tasks or missing dependencies\n",
      "\n",
      "===== Luigi Execution Summary =====\n",
      "\n"
     ]
    },
    {
     "name": "stdout",
     "output_type": "stream",
     "text": [
      "0.3333333333333333\n",
      "Compeleted tasks to invalidate:\n",
      "{TaskTrain(dt_start=2020-01-01, dt_end=2020-07-01, scheduler_host=localhost, scheduler_port=8082, do_preprocess=True), TaskPreprocess(dt_start=2020-01-01, dt_end=2020-07-01, scheduler_host=localhost, scheduler_port=8082, do_preprocess=True), TaskGetData(dt_start=2020-01-01, dt_end=2020-07-01, scheduler_host=localhost, scheduler_port=8082)}\n"
     ]
    },
    {
     "name": "stdin",
     "output_type": "stream",
     "text": [
      "Confirm invalidating tasks (y/n) y\n"
     ]
    },
    {
     "name": "stderr",
     "output_type": "stream",
     "text": [
      "INFO: Informed scheduler that task   TaskTrain_True_2020_07_01_2020_01_01_e3d119a8a0   has status   PENDING\n",
      "INFO: Informed scheduler that task   TaskPreprocess_True_2020_07_01_2020_01_01_e3d119a8a0   has status   PENDING\n",
      "INFO: Informed scheduler that task   TaskGetData_2020_07_01_2020_01_01_localhost_00dca8d161   has status   PENDING\n",
      "INFO: Done scheduling tasks\n",
      "INFO: Running Worker with 1 processes\n",
      "INFO: [pid 63003] Worker Worker(salt=685730968, workers=1, host=localhost, username=leepand, pid=63003) running   TaskGetData(dt_start=2020-01-01, dt_end=2020-07-01, scheduler_host=localhost, scheduler_port=8082)\n",
      "INFO: [pid 63003] Worker Worker(salt=685730968, workers=1, host=localhost, username=leepand, pid=63003) done      TaskGetData(dt_start=2020-01-01, dt_end=2020-07-01, scheduler_host=localhost, scheduler_port=8082)\n",
      "INFO: Informed scheduler that task   TaskGetData_2020_07_01_2020_01_01_localhost_00dca8d161   has status   DONE\n",
      "INFO: [pid 63003] Worker Worker(salt=685730968, workers=1, host=localhost, username=leepand, pid=63003) running   TaskPreprocess(dt_start=2020-01-01, dt_end=2020-07-01, scheduler_host=localhost, scheduler_port=8082, do_preprocess=True)\n",
      "INFO: [pid 63003] Worker Worker(salt=685730968, workers=1, host=localhost, username=leepand, pid=63003) done      TaskPreprocess(dt_start=2020-01-01, dt_end=2020-07-01, scheduler_host=localhost, scheduler_port=8082, do_preprocess=True)\n",
      "INFO: Informed scheduler that task   TaskPreprocess_True_2020_07_01_2020_01_01_e3d119a8a0   has status   DONE\n",
      "INFO: [pid 63003] Worker Worker(salt=685730968, workers=1, host=localhost, username=leepand, pid=63003) running   TaskTrain(dt_start=2020-01-01, dt_end=2020-07-01, scheduler_host=localhost, scheduler_port=8082, do_preprocess=True)\n"
     ]
    },
    {
     "name": "stdout",
     "output_type": "stream",
     "text": [
      "\n",
      "└─--[TaskTrain-{'dt_start': '2020-01-01', 'dt_end': '2020-07-01', 'scheduler_host': 'localhost', 'scheduler_port': '8082', 'do_preprocess': 'True'} (\u001b[94mPENDING\u001b[0m)]\n",
      "   └─--[TaskPreprocess-{'dt_start': '2020-01-01', 'dt_end': '2020-07-01', 'scheduler_host': 'localhost', 'scheduler_port': '8082', 'do_preprocess': 'True'} (\u001b[94mPENDING\u001b[0m)]\n",
      "      └─--[TaskGetData-{'dt_start': '2020-01-01', 'dt_end': '2020-07-01', 'scheduler_host': 'localhost', 'scheduler_port': '8082'} (\u001b[94mPENDING\u001b[0m)]\n"
     ]
    },
    {
     "name": "stderr",
     "output_type": "stream",
     "text": [
      "INFO: [pid 63003] Worker Worker(salt=685730968, workers=1, host=localhost, username=leepand, pid=63003) done      TaskTrain(dt_start=2020-01-01, dt_end=2020-07-01, scheduler_host=localhost, scheduler_port=8082, do_preprocess=True)\n",
      "INFO: Informed scheduler that task   TaskTrain_True_2020_07_01_2020_01_01_e3d119a8a0   has status   DONE\n",
      "INFO: Worker Worker(salt=685730968, workers=1, host=localhost, username=leepand, pid=63003) was stopped. Shutting down Keep-Alive thread\n",
      "INFO: \n",
      "===== Luigi Execution Summary =====\n",
      "\n",
      "Scheduled 3 tasks of which:\n",
      "* 3 ran successfully:\n",
      "    - 1 TaskGetData(dt_start=2020-01-01, dt_end=2020-07-01, scheduler_host=localhost, scheduler_port=8082)\n",
      "    - 1 TaskPreprocess(dt_start=2020-01-01, dt_end=2020-07-01, scheduler_host=localhost, scheduler_port=8082, do_preprocess=True)\n",
      "    - 1 TaskTrain(dt_start=2020-01-01, dt_end=2020-07-01, scheduler_host=localhost, scheduler_port=8082, do_preprocess=True)\n",
      "\n",
      "This progress looks :) because there were no failed tasks or missing dependencies\n",
      "\n",
      "===== Luigi Execution Summary =====\n",
      "\n"
     ]
    },
    {
     "data": {
      "image/png": "[encoded data removed]",
      "text/plain": [
       "<Figure size 432x288 with 1 Axes>"
      ]
     },
     "metadata": {
      "needs_background": "light"
     },
     "output_type": "display_data"
    }
   ],
   "source": [
    "import run"
   ]
  },
  {
   "cell_type": "code",
   "execution_count": null,
   "metadata": {},
   "outputs": [],
   "source": []
  }
 ],
 "metadata": {
  "kernelspec": {
   "display_name": "Python 3",
   "language": "python",
   "name": "python3"
  },
  "language_info": {
   "codemirror_mode": {
    "name": "ipython",
    "version": 3
   },
   "file_extension": ".py",
   "mimetype": "text/x-python",
   "name": "python",
   "nbconvert_exporter": "python",
   "pygments_lexer": "ipython3",
   "version": "3.7.4"
  }
 },
 "nbformat": 4,
 "nbformat_minor": 4
}
