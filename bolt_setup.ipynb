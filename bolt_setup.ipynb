{
 "cells": [
  {
   "cell_type": "code",
   "execution_count": 1,
   "metadata": {},
   "outputs": [],
   "source": [
    "!cp -r /Users/leepand/Downloads/github/sparsity/new_sparsity/sparsity/sparsity  ."
   ]
  },
  {
   "cell_type": "code",
   "execution_count": 8,
   "metadata": {},
   "outputs": [
    {
     "name": "stdout",
     "output_type": "stream",
     "text": [
      "__init__.py     _version.py     \u001b[34mdask\u001b[m\u001b[m            io_.py          sparse_frame.py\n",
      "\u001b[34m__pycache__\u001b[m\u001b[m     algolink_six.py indexing.py     \u001b[34mpandas_utils\u001b[m\u001b[m    \u001b[34mtest\u001b[m\u001b[m\n"
     ]
    }
   ],
   "source": [
    "!ls /Users/leepand/Downloads/github/sparsity/new_sparsity/sparsity/sparsity/"
   ]
  },
  {
   "cell_type": "code",
   "execution_count": 8,
   "metadata": {},
   "outputs": [
    {
     "name": "stdout",
     "output_type": "stream",
     "text": [
      "Processing /Users/leepand/Downloads/github/bolt4ds\n",
      "Requirement already satisfied: s3fs>=0.1.0 in /Users/leepand/miniconda3/lib/python3.7/site-packages (from bolt4ds==0+untagged.1.g242c0fe) (0.2.2)\n",
      "Requirement already satisfied: dask>0.20.0 in /Users/leepand/miniconda3/lib/python3.7/site-packages (from bolt4ds==0+untagged.1.g242c0fe) (2.16.0)\n",
      "Requirement already satisfied: botocore>=1.12.91 in /Users/leepand/miniconda3/lib/python3.7/site-packages (from s3fs>=0.1.0->bolt4ds==0+untagged.1.g242c0fe) (1.15.27)\n",
      "Requirement already satisfied: boto3>=1.9.91 in /Users/leepand/miniconda3/lib/python3.7/site-packages (from s3fs>=0.1.0->bolt4ds==0+untagged.1.g242c0fe) (1.12.27)\n",
      "Requirement already satisfied: six>=1.12.0 in /Users/leepand/miniconda3/lib/python3.7/site-packages (from s3fs>=0.1.0->bolt4ds==0+untagged.1.g242c0fe) (1.12.0)\n",
      "Requirement already satisfied: python-dateutil<3.0.0,>=2.1 in /Users/leepand/miniconda3/lib/python3.7/site-packages (from botocore>=1.12.91->s3fs>=0.1.0->bolt4ds==0+untagged.1.g242c0fe) (2.8.1)\n",
      "Requirement already satisfied: jmespath<1.0.0,>=0.7.1 in /Users/leepand/miniconda3/lib/python3.7/site-packages (from botocore>=1.12.91->s3fs>=0.1.0->bolt4ds==0+untagged.1.g242c0fe) (0.9.5)\n",
      "Requirement already satisfied: docutils<0.16,>=0.10 in /Users/leepand/miniconda3/lib/python3.7/site-packages (from botocore>=1.12.91->s3fs>=0.1.0->bolt4ds==0+untagged.1.g242c0fe) (0.15.2)\n",
      "Requirement already satisfied: urllib3<1.26,>=1.20; python_version != \"3.4\" in /Users/leepand/miniconda3/lib/python3.7/site-packages (from botocore>=1.12.91->s3fs>=0.1.0->bolt4ds==0+untagged.1.g242c0fe) (1.24.2)\n",
      "Requirement already satisfied: s3transfer<0.4.0,>=0.3.0 in /Users/leepand/miniconda3/lib/python3.7/site-packages (from boto3>=1.9.91->s3fs>=0.1.0->bolt4ds==0+untagged.1.g242c0fe) (0.3.3)\n",
      "Building wheels for collected packages: bolt4ds\n",
      "  Building wheel for bolt4ds (setup.py) ... \u001b[?25ldone\n",
      "\u001b[?25h  Created wheel for bolt4ds: filename=bolt4ds-0+untagged.1.g242c0fe-cp37-none-any.whl size=123262 sha256=45d1092d20ac4e6e1f9d35f97214551b5a6da5fba0dd677469f95429d0e9c374\n",
      "  Stored in directory: /private/var/folders/sl/gjmcfy096kqcf_rrr4_8tvlh0000gn/T/pip-ephem-wheel-cache-08pvwx7s/wheels/62/5c/34/74ca7677c4cc9321f5329d175f1f4064382b3e379129b034cb\n",
      "Successfully built bolt4ds\n",
      "Installing collected packages: bolt4ds\n",
      "Successfully installed bolt4ds-0+untagged.1.g242c0fe\n"
     ]
    }
   ],
   "source": [
    "!pip install ."
   ]
  },
  {
   "cell_type": "code",
   "execution_count": 10,
   "metadata": {},
   "outputs": [
    {
     "data": {
      "text/plain": [
       "     0    1    2    3    4\n",
       "0  1.0  0.0  0.0  0.0  0.0\n",
       "1  0.0  1.0  0.0  0.0  0.0\n",
       "2  0.0  0.0  1.0  0.0  0.0\n",
       "3  0.0  0.0  0.0  1.0  0.0\n",
       "4  0.0  0.0  0.0  0.0  1.0\n",
       "[5x5 SparseFrame of type '<class 'float64'>' \n",
       " with 5 stored elements in Compressed Sparse Row format]"
      ]
     },
     "execution_count": 10,
     "metadata": {},
     "output_type": "execute_result"
    }
   ],
   "source": [
    "import sparsity as sp3\n",
    "import scipy.sparse as sp2\n",
    "item_features = sp2.eye(5, 5).tocsr()\n",
    "eye = sp2.eye(5, 5).tocsr()\n",
    "sp3.SparseFrame(sp2.eye(5, 5).tocsr())"
   ]
  },
  {
   "cell_type": "code",
   "execution_count": 11,
   "metadata": {},
   "outputs": [
    {
     "data": {
      "text/plain": [
       "     0    1    2    3    4\n",
       "0  1.0  0.0  0.0  0.0  0.0\n",
       "1  0.0  1.0  0.0  0.0  0.0\n",
       "2  0.0  0.0  1.0  0.0  0.0\n",
       "3  0.0  0.0  0.0  1.0  0.0\n",
       "4  0.0  0.0  0.0  0.0  1.0\n",
       "[5x5 SparseFrame of type '<class 'float64'>' \n",
       " with 5 stored elements in Compressed Sparse Row format]"
      ]
     },
     "execution_count": 11,
     "metadata": {},
     "output_type": "execute_result"
    }
   ],
   "source": [
    "import bolt4ds.sparsity as sp5\n",
    "import scipy.sparse as sp2\n",
    "item_features = sp2.eye(5, 5).tocsr()\n",
    "eye = sp2.eye(5, 5).tocsr()\n",
    "sp5.SparseFrame(sp2.eye(5, 5).tocsr())"
   ]
  },
  {
   "cell_type": "code",
   "execution_count": 12,
   "metadata": {},
   "outputs": [
    {
     "name": "stdout",
     "output_type": "stream",
     "text": [
      "[master a93f4aa] first commit\n",
      " 104 files changed, 37348 insertions(+)\n",
      " create mode 100644 .ipynb_checkpoints/LICENSE-checkpoint\n",
      " create mode 100644 .ipynb_checkpoints/MANIFEST-checkpoint.in\n",
      " create mode 100644 .ipynb_checkpoints/README-checkpoint.md\n",
      " create mode 100644 .ipynb_checkpoints/Untitled-checkpoint.ipynb\n",
      " create mode 100644 .ipynb_checkpoints/setup-checkpoint.cfg\n",
      " create mode 100644 .ipynb_checkpoints/setup-checkpoint.py\n",
      " create mode 100644 .ipynb_checkpoints/versioneer-checkpoint.py\n",
      " create mode 100644 LICENSE\n",
      " create mode 100644 MANIFEST.in\n",
      " create mode 100644 Untitled.ipynb\n",
      " create mode 100644 bolt4ds/.ipynb_checkpoints/__init__-checkpoint.py\n",
      " create mode 100644 bolt4ds/.ipynb_checkpoints/_version-checkpoint.py\n",
      " create mode 100644 bolt4ds/__init__.py\n",
      " create mode 100644 bolt4ds/__pycache__/__init__.cpython-37.pyc\n",
      " create mode 100644 bolt4ds/_version.py\n",
      " create mode 100644 bolt4ds/sparsity/.ipynb_checkpoints/__init__-checkpoint.py\n",
      " create mode 100644 bolt4ds/sparsity/.ipynb_checkpoints/_version-checkpoint.py\n",
      " create mode 100644 bolt4ds/sparsity/.ipynb_checkpoints/algolink_six-checkpoint.py\n",
      " create mode 100644 bolt4ds/sparsity/.ipynb_checkpoints/indexing-checkpoint.py\n",
      " create mode 100644 bolt4ds/sparsity/.ipynb_checkpoints/io_-checkpoint.py\n",
      " create mode 100644 bolt4ds/sparsity/.ipynb_checkpoints/sparse_frame-checkpoint.py\n",
      " create mode 100644 bolt4ds/sparsity/__init__.py\n",
      " create mode 100644 bolt4ds/sparsity/__pycache__/__init__.cpython-37.pyc\n",
      " create mode 100644 bolt4ds/sparsity/__pycache__/_version.cpython-37.pyc\n",
      " create mode 100644 bolt4ds/sparsity/__pycache__/algolink_six.cpython-37.pyc\n",
      " create mode 100644 bolt4ds/sparsity/__pycache__/indexing.cpython-37.pyc\n",
      " create mode 100644 bolt4ds/sparsity/__pycache__/io_.cpython-37.pyc\n",
      " create mode 100644 bolt4ds/sparsity/__pycache__/sparse_frame.cpython-37.pyc\n",
      " create mode 100644 bolt4ds/sparsity/_version.py\n",
      " create mode 100644 bolt4ds/sparsity/algolink_six.py\n",
      " create mode 100644 bolt4ds/sparsity/dask/.ipynb_checkpoints/__init__-checkpoint.py\n",
      " create mode 100644 bolt4ds/sparsity/dask/.ipynb_checkpoints/core-checkpoint.py\n",
      " create mode 100644 bolt4ds/sparsity/dask/.ipynb_checkpoints/indexing-checkpoint.py\n",
      " create mode 100644 bolt4ds/sparsity/dask/.ipynb_checkpoints/io_-checkpoint.py\n",
      " create mode 100644 bolt4ds/sparsity/dask/.ipynb_checkpoints/multi-checkpoint.py\n",
      " create mode 100644 bolt4ds/sparsity/dask/.ipynb_checkpoints/reshape-checkpoint.py\n",
      " create mode 100644 bolt4ds/sparsity/dask/.ipynb_checkpoints/shuffle-checkpoint.py\n",
      " create mode 100644 bolt4ds/sparsity/dask/__init__.py\n",
      " create mode 100644 bolt4ds/sparsity/dask/__pycache__/__init__.cpython-37.pyc\n",
      " create mode 100644 bolt4ds/sparsity/dask/__pycache__/core.cpython-37.pyc\n",
      " create mode 100644 bolt4ds/sparsity/dask/core.py\n",
      " create mode 100644 bolt4ds/sparsity/dask/indexing.py\n",
      " create mode 100644 bolt4ds/sparsity/dask/io_.py\n",
      " create mode 100644 bolt4ds/sparsity/dask/multi.py\n",
      " create mode 100644 bolt4ds/sparsity/dask/reshape.py\n",
      " create mode 100644 bolt4ds/sparsity/dask/shuffle.py\n",
      " create mode 100644 bolt4ds/sparsity/indexing.py\n",
      " create mode 100644 bolt4ds/sparsity/io_.py\n",
      " create mode 100644 bolt4ds/sparsity/pandas_utils/.ipynb_checkpoints/__init__-checkpoint.py\n",
      " create mode 100644 bolt4ds/sparsity/pandas_utils/.ipynb_checkpoints/common-checkpoint.py\n",
      " create mode 100644 bolt4ds/sparsity/pandas_utils/.ipynb_checkpoints/config-checkpoint.py\n",
      " create mode 100644 bolt4ds/sparsity/pandas_utils/.ipynb_checkpoints/pandas_core_indexing-checkpoint.py\n",
      " create mode 100644 bolt4ds/sparsity/pandas_utils/__init__.py\n",
      " create mode 100644 bolt4ds/sparsity/pandas_utils/__pycache__/__init__.cpython-37.pyc\n",
      " create mode 100644 bolt4ds/sparsity/pandas_utils/__pycache__/common.cpython-37.pyc\n",
      " create mode 100644 bolt4ds/sparsity/pandas_utils/__pycache__/config.cpython-37.pyc\n",
      " create mode 100644 bolt4ds/sparsity/pandas_utils/__pycache__/pandas_core_indexing.cpython-37.pyc\n",
      " create mode 100644 bolt4ds/sparsity/pandas_utils/common.py\n",
      " create mode 100644 bolt4ds/sparsity/pandas_utils/compat/.ipynb_checkpoints/__init__-checkpoint.py\n",
      " create mode 100644 bolt4ds/sparsity/pandas_utils/compat/.ipynb_checkpoints/chainmap-checkpoint.py\n",
      " create mode 100644 bolt4ds/sparsity/pandas_utils/compat/.ipynb_checkpoints/chainmap_impl-checkpoint.py\n",
      " create mode 100644 bolt4ds/sparsity/pandas_utils/compat/.ipynb_checkpoints/pickle_compat-checkpoint.py\n",
      " create mode 100644 bolt4ds/sparsity/pandas_utils/compat/__init__.py\n",
      " create mode 100644 bolt4ds/sparsity/pandas_utils/compat/__pycache__/__init__.cpython-37.pyc\n",
      " create mode 100644 bolt4ds/sparsity/pandas_utils/compat/chainmap.py\n",
      " create mode 100644 bolt4ds/sparsity/pandas_utils/compat/chainmap_impl.py\n",
      " create mode 100644 bolt4ds/sparsity/pandas_utils/compat/pickle_compat.py\n",
      " create mode 100644 bolt4ds/sparsity/pandas_utils/config.py\n",
      " create mode 100644 bolt4ds/sparsity/pandas_utils/dtypes/.ipynb_checkpoints/__init__-checkpoint.py\n",
      " create mode 100644 bolt4ds/sparsity/pandas_utils/dtypes/.ipynb_checkpoints/api-checkpoint.py\n",
      " create mode 100644 bolt4ds/sparsity/pandas_utils/dtypes/.ipynb_checkpoints/base-checkpoint.py\n",
      " create mode 100644 bolt4ds/sparsity/pandas_utils/dtypes/.ipynb_checkpoints/cast-checkpoint.py\n",
      " create mode 100644 bolt4ds/sparsity/pandas_utils/dtypes/.ipynb_checkpoints/common-checkpoint.py\n",
      " create mode 100644 bolt4ds/sparsity/pandas_utils/dtypes/.ipynb_checkpoints/concat-checkpoint.py\n",
      " create mode 100644 bolt4ds/sparsity/pandas_utils/dtypes/.ipynb_checkpoints/dtypes-checkpoint.py\n",
      " create mode 100644 bolt4ds/sparsity/pandas_utils/dtypes/.ipynb_checkpoints/generic-checkpoint.py\n",
      " create mode 100644 bolt4ds/sparsity/pandas_utils/dtypes/.ipynb_checkpoints/inference-checkpoint.py\n",
      " create mode 100644 bolt4ds/sparsity/pandas_utils/dtypes/.ipynb_checkpoints/missing-checkpoint.py\n",
      " create mode 100644 bolt4ds/sparsity/pandas_utils/dtypes/__init__.py\n",
      " create mode 100644 bolt4ds/sparsity/pandas_utils/dtypes/__pycache__/__init__.cpython-37.pyc\n",
      " create mode 100644 bolt4ds/sparsity/pandas_utils/dtypes/__pycache__/base.cpython-37.pyc\n",
      " create mode 100644 bolt4ds/sparsity/pandas_utils/dtypes/__pycache__/common.cpython-37.pyc\n",
      " create mode 100644 bolt4ds/sparsity/pandas_utils/dtypes/__pycache__/dtypes.cpython-37.pyc\n",
      " create mode 100644 bolt4ds/sparsity/pandas_utils/dtypes/__pycache__/generic.cpython-37.pyc\n",
      " create mode 100644 bolt4ds/sparsity/pandas_utils/dtypes/__pycache__/inference.cpython-37.pyc\n",
      " create mode 100644 bolt4ds/sparsity/pandas_utils/dtypes/api.py\n",
      " create mode 100644 bolt4ds/sparsity/pandas_utils/dtypes/base.py\n",
      " create mode 100644 bolt4ds/sparsity/pandas_utils/dtypes/cast.py\n",
      " create mode 100644 bolt4ds/sparsity/pandas_utils/dtypes/common.py\n",
      " create mode 100644 bolt4ds/sparsity/pandas_utils/dtypes/concat.py\n",
      " create mode 100644 bolt4ds/sparsity/pandas_utils/dtypes/dtypes.py\n",
      " create mode 100644 bolt4ds/sparsity/pandas_utils/dtypes/generic.py\n",
      " create mode 100644 bolt4ds/sparsity/pandas_utils/dtypes/inference.py\n",
      " create mode 100644 bolt4ds/sparsity/pandas_utils/dtypes/missing.py\n",
      " create mode 100644 bolt4ds/sparsity/pandas_utils/pandas_core_indexing.py\n",
      " create mode 100644 bolt4ds/sparsity/sparse_frame.py\n",
      " create mode 100644 bolt4ds/sparsity/test/.ipynb_checkpoints/test_sparse_frame-checkpoint.py\n",
      " create mode 100644 bolt4ds/sparsity/test/__init__.py\n",
      " create mode 100644 bolt4ds/sparsity/test/conftest.py\n",
      " create mode 100644 bolt4ds/sparsity/test/test_dask_sparse_frame.py\n",
      " create mode 100644 bolt4ds/sparsity/test/test_sparse_frame.py\n",
      " create mode 100644 setup.cfg\n",
      " create mode 100644 setup.py\n",
      " create mode 100644 versioneer.py\n",
      "fatal: unable to access 'https://github.com/leepand/bolt4ds/': Failed to connect to github.com port 443: Operation timed out\n"
     ]
    }
   ],
   "source": [
    "!git add .\n",
    "!git commit -m \"first commit\"\n",
    "!git push origin -u master"
   ]
  },
  {
   "cell_type": "code",
   "execution_count": null,
   "metadata": {},
   "outputs": [],
   "source": []
  }
 ],
 "metadata": {
  "kernelspec": {
   "display_name": "Python 3",
   "language": "python",
   "name": "python3"
  },
  "language_info": {
   "codemirror_mode": {
    "name": "ipython",
    "version": 3
   },
   "file_extension": ".py",
   "mimetype": "text/x-python",
   "name": "python",
   "nbconvert_exporter": "python",
   "pygments_lexer": "ipython3",
   "version": "3.7.4"
  }
 },
 "nbformat": 4,
 "nbformat_minor": 4
}
