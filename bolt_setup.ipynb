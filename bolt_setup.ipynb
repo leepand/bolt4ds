{
 "cells": [
  {
   "cell_type": "code",
   "execution_count": 1,
   "metadata": {},
   "outputs": [],
   "source": [
    "!cp -r /Users/leepand/Downloads/github/sparsity/new_sparsity/sparsity/sparsity  ."
   ]
  },
  {
   "cell_type": "code",
   "execution_count": 8,
   "metadata": {},
   "outputs": [
    {
     "name": "stdout",
     "output_type": "stream",
     "text": [
      "__init__.py     _version.py     \u001b[34mdask\u001b[m\u001b[m            io_.py          sparse_frame.py\n",
      "\u001b[34m__pycache__\u001b[m\u001b[m     algolink_six.py indexing.py     \u001b[34mpandas_utils\u001b[m\u001b[m    \u001b[34mtest\u001b[m\u001b[m\n"
     ]
    }
   ],
   "source": [
    "!ls /Users/leepand/Downloads/github/sparsity/new_sparsity/sparsity/sparsity/"
   ]
  },
  {
   "cell_type": "code",
   "execution_count": 21,
   "metadata": {},
   "outputs": [
    {
     "name": "stdout",
     "output_type": "stream",
     "text": [
      "Processing /Users/leepand/Downloads/github/bolt4ds\n",
      "Requirement already satisfied: s3fs>=0.1.0 in /Users/leepand/miniconda3/lib/python3.7/site-packages (from bolt4ds==0+untagged.8.g3af4174.dirty) (0.2.2)\n",
      "Requirement already satisfied: dask>0.20.0 in /Users/leepand/miniconda3/lib/python3.7/site-packages (from bolt4ds==0+untagged.8.g3af4174.dirty) (2.16.0)\n",
      "Requirement already satisfied: six>=1.12.0 in /Users/leepand/miniconda3/lib/python3.7/site-packages (from s3fs>=0.1.0->bolt4ds==0+untagged.8.g3af4174.dirty) (1.12.0)\n",
      "Requirement already satisfied: boto3>=1.9.91 in /Users/leepand/miniconda3/lib/python3.7/site-packages (from s3fs>=0.1.0->bolt4ds==0+untagged.8.g3af4174.dirty) (1.12.27)\n",
      "Requirement already satisfied: botocore>=1.12.91 in /Users/leepand/miniconda3/lib/python3.7/site-packages (from s3fs>=0.1.0->bolt4ds==0+untagged.8.g3af4174.dirty) (1.15.27)\n",
      "Requirement already satisfied: jmespath<1.0.0,>=0.7.1 in /Users/leepand/miniconda3/lib/python3.7/site-packages (from boto3>=1.9.91->s3fs>=0.1.0->bolt4ds==0+untagged.8.g3af4174.dirty) (0.9.5)\n",
      "Requirement already satisfied: s3transfer<0.4.0,>=0.3.0 in /Users/leepand/miniconda3/lib/python3.7/site-packages (from boto3>=1.9.91->s3fs>=0.1.0->bolt4ds==0+untagged.8.g3af4174.dirty) (0.3.3)\n",
      "Requirement already satisfied: docutils<0.16,>=0.10 in /Users/leepand/miniconda3/lib/python3.7/site-packages (from botocore>=1.12.91->s3fs>=0.1.0->bolt4ds==0+untagged.8.g3af4174.dirty) (0.15.2)\n",
      "Requirement already satisfied: python-dateutil<3.0.0,>=2.1 in /Users/leepand/miniconda3/lib/python3.7/site-packages (from botocore>=1.12.91->s3fs>=0.1.0->bolt4ds==0+untagged.8.g3af4174.dirty) (2.8.1)\n",
      "Requirement already satisfied: urllib3<1.26,>=1.20; python_version != \"3.4\" in /Users/leepand/miniconda3/lib/python3.7/site-packages (from botocore>=1.12.91->s3fs>=0.1.0->bolt4ds==0+untagged.8.g3af4174.dirty) (1.24.2)\n",
      "Building wheels for collected packages: bolt4ds\n",
      "  Building wheel for bolt4ds (setup.py) ... \u001b[?25ldone\n",
      "\u001b[?25h  Created wheel for bolt4ds: filename=bolt4ds-0+untagged.8.g3af4174.dirty-cp37-none-any.whl size=143856 sha256=6b086414ca06af16e03d87c1c13256ac4e254a54edde286d5e7dd1c9d9a25cb0\n",
      "  Stored in directory: /private/var/folders/sl/gjmcfy096kqcf_rrr4_8tvlh0000gn/T/pip-ephem-wheel-cache-u8pd03qo/wheels/62/5c/34/74ca7677c4cc9321f5329d175f1f4064382b3e379129b034cb\n",
      "Successfully built bolt4ds\n",
      "Installing collected packages: bolt4ds\n",
      "  Found existing installation: bolt4ds 0+untagged.8.g3af4174.dirty\n",
      "    Uninstalling bolt4ds-0+untagged.8.g3af4174.dirty:\n",
      "      Successfully uninstalled bolt4ds-0+untagged.8.g3af4174.dirty\n",
      "Successfully installed bolt4ds-0+untagged.8.g3af4174.dirty\n"
     ]
    }
   ],
   "source": [
    "!pip install ."
   ]
  },
  {
   "cell_type": "code",
   "execution_count": 10,
   "metadata": {},
   "outputs": [
    {
     "data": {
      "text/plain": [
       "     0    1    2    3    4\n",
       "0  1.0  0.0  0.0  0.0  0.0\n",
       "1  0.0  1.0  0.0  0.0  0.0\n",
       "2  0.0  0.0  1.0  0.0  0.0\n",
       "3  0.0  0.0  0.0  1.0  0.0\n",
       "4  0.0  0.0  0.0  0.0  1.0\n",
       "[5x5 SparseFrame of type '<class 'float64'>' \n",
       " with 5 stored elements in Compressed Sparse Row format]"
      ]
     },
     "execution_count": 10,
     "metadata": {},
     "output_type": "execute_result"
    }
   ],
   "source": [
    "import sparsity as sp3\n",
    "import scipy.sparse as sp2\n",
    "item_features = sp2.eye(5, 5).tocsr()\n",
    "eye = sp2.eye(5, 5).tocsr()\n",
    "sp3.SparseFrame(sp2.eye(5, 5).tocsr())"
   ]
  },
  {
   "cell_type": "code",
   "execution_count": 11,
   "metadata": {},
   "outputs": [
    {
     "data": {
      "text/plain": [
       "     0    1    2    3    4\n",
       "0  1.0  0.0  0.0  0.0  0.0\n",
       "1  0.0  1.0  0.0  0.0  0.0\n",
       "2  0.0  0.0  1.0  0.0  0.0\n",
       "3  0.0  0.0  0.0  1.0  0.0\n",
       "4  0.0  0.0  0.0  0.0  1.0\n",
       "[5x5 SparseFrame of type '<class 'float64'>' \n",
       " with 5 stored elements in Compressed Sparse Row format]"
      ]
     },
     "execution_count": 11,
     "metadata": {},
     "output_type": "execute_result"
    }
   ],
   "source": [
    "import bolt4ds.sparsity as sp5\n",
    "import scipy.sparse as sp2\n",
    "item_features = sp2.eye(5, 5).tocsr()\n",
    "eye = sp2.eye(5, 5).tocsr()\n",
    "sp5.SparseFrame(sp2.eye(5, 5).tocsr())"
   ]
  },
  {
   "cell_type": "code",
   "execution_count": 18,
   "metadata": {},
   "outputs": [
    {
     "name": "stdout",
     "output_type": "stream",
     "text": [
      "[master 3af4174] first commit\n",
      " 3 files changed, 33 insertions(+), 16 deletions(-)\n",
      "Enumerating objects: 9, done.\n",
      "Counting objects: 100% (9/9), done.\n",
      "Delta compression using up to 8 threads\n",
      "Compressing objects: 100% (5/5), done.\n",
      "Writing objects: 100% (5/5), 729 bytes | 729.00 KiB/s, done.\n",
      "Total 5 (delta 4), reused 0 (delta 0)\n",
      "remote: Resolving deltas: 100% (4/4), completed with 4 local objects.\u001b[K\n",
      "To https://github.com/leepand/bolt4ds\n",
      "   69a93df..3af4174  master -> master\n",
      "Branch 'master' set up to track remote branch 'master' from 'origin'.\n"
     ]
    }
   ],
   "source": [
    "!git add .\n",
    "!git commit -m \"add sparsity ingest\"\n",
    "!git push origin -u master"
   ]
  },
  {
   "cell_type": "code",
   "execution_count": null,
   "metadata": {},
   "outputs": [],
   "source": []
  }
 ],
 "metadata": {
  "kernelspec": {
   "display_name": "Python 3",
   "language": "python",
   "name": "python3"
  },
  "language_info": {
   "codemirror_mode": {
    "name": "ipython",
    "version": 3
   },
   "file_extension": ".py",
   "mimetype": "text/x-python",
   "name": "python",
   "nbconvert_exporter": "python",
   "pygments_lexer": "ipython3",
   "version": "3.7.4"
  }
 },
 "nbformat": 4,
 "nbformat_minor": 4
}
