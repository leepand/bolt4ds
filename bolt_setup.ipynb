{
 "cells": [
  {
   "cell_type": "code",
   "execution_count": 1,
   "metadata": {},
   "outputs": [],
   "source": [
    "!cp -r /Users/leepand/Downloads/github/sparsity/new_sparsity/sparsity/sparsity  ."
   ]
  },
  {
   "cell_type": "code",
   "execution_count": 8,
   "metadata": {},
   "outputs": [
    {
     "name": "stdout",
     "output_type": "stream",
     "text": [
      "__init__.py     _version.py     \u001b[34mdask\u001b[m\u001b[m            io_.py          sparse_frame.py\n",
      "\u001b[34m__pycache__\u001b[m\u001b[m     algolink_six.py indexing.py     \u001b[34mpandas_utils\u001b[m\u001b[m    \u001b[34mtest\u001b[m\u001b[m\n"
     ]
    }
   ],
   "source": [
    "!ls /Users/leepand/Downloads/github/sparsity/new_sparsity/sparsity/sparsity/"
   ]
  },
  {
   "cell_type": "code",
   "execution_count": 37,
   "metadata": {},
   "outputs": [
    {
     "name": "stdout",
     "output_type": "stream",
     "text": [
      "Processing /Users/leepand/Downloads/github/bolt4ds\n",
      "Requirement already satisfied: s3fs>=0.1.0 in /Users/leepand/miniconda3/lib/python3.7/site-packages (from bolt4ds==0+untagged.9.g7b678a7.dirty) (0.2.2)\n",
      "Requirement already satisfied: dask>0.20.0 in /Users/leepand/miniconda3/lib/python3.7/site-packages (from bolt4ds==0+untagged.9.g7b678a7.dirty) (2.16.0)\n",
      "Requirement already satisfied: botocore>=1.12.91 in /Users/leepand/miniconda3/lib/python3.7/site-packages (from s3fs>=0.1.0->bolt4ds==0+untagged.9.g7b678a7.dirty) (1.15.27)\n",
      "Requirement already satisfied: six>=1.12.0 in /Users/leepand/miniconda3/lib/python3.7/site-packages (from s3fs>=0.1.0->bolt4ds==0+untagged.9.g7b678a7.dirty) (1.12.0)\n",
      "Requirement already satisfied: boto3>=1.9.91 in /Users/leepand/miniconda3/lib/python3.7/site-packages (from s3fs>=0.1.0->bolt4ds==0+untagged.9.g7b678a7.dirty) (1.12.27)\n",
      "Requirement already satisfied: jmespath<1.0.0,>=0.7.1 in /Users/leepand/miniconda3/lib/python3.7/site-packages (from botocore>=1.12.91->s3fs>=0.1.0->bolt4ds==0+untagged.9.g7b678a7.dirty) (0.9.5)\n",
      "Requirement already satisfied: urllib3<1.26,>=1.20; python_version != \"3.4\" in /Users/leepand/miniconda3/lib/python3.7/site-packages (from botocore>=1.12.91->s3fs>=0.1.0->bolt4ds==0+untagged.9.g7b678a7.dirty) (1.24.2)\n",
      "Requirement already satisfied: docutils<0.16,>=0.10 in /Users/leepand/miniconda3/lib/python3.7/site-packages (from botocore>=1.12.91->s3fs>=0.1.0->bolt4ds==0+untagged.9.g7b678a7.dirty) (0.15.2)\n",
      "Requirement already satisfied: python-dateutil<3.0.0,>=2.1 in /Users/leepand/miniconda3/lib/python3.7/site-packages (from botocore>=1.12.91->s3fs>=0.1.0->bolt4ds==0+untagged.9.g7b678a7.dirty) (2.8.1)\n",
      "Requirement already satisfied: s3transfer<0.4.0,>=0.3.0 in /Users/leepand/miniconda3/lib/python3.7/site-packages (from boto3>=1.9.91->s3fs>=0.1.0->bolt4ds==0+untagged.9.g7b678a7.dirty) (0.3.3)\n",
      "Building wheels for collected packages: bolt4ds\n",
      "  Building wheel for bolt4ds (setup.py) ... \u001b[?25ldone\n",
      "\u001b[?25h  Created wheel for bolt4ds: filename=bolt4ds-0+untagged.9.g7b678a7.dirty-cp37-none-any.whl size=171632 sha256=313941ef86e56dbd2a8ac64cc15e14ac9eee030518101f895efa7e8f5e7d4a59\n",
      "  Stored in directory: /private/var/folders/sl/gjmcfy096kqcf_rrr4_8tvlh0000gn/T/pip-ephem-wheel-cache-3isznvkp/wheels/62/5c/34/74ca7677c4cc9321f5329d175f1f4064382b3e379129b034cb\n",
      "Successfully built bolt4ds\n",
      "Installing collected packages: bolt4ds\n",
      "  Found existing installation: bolt4ds 0+untagged.9.g7b678a7.dirty\n",
      "    Uninstalling bolt4ds-0+untagged.9.g7b678a7.dirty:\n",
      "      Successfully uninstalled bolt4ds-0+untagged.9.g7b678a7.dirty\n",
      "Successfully installed bolt4ds-0+untagged.9.g7b678a7.dirty\n"
     ]
    }
   ],
   "source": [
    "!pip install ."
   ]
  },
  {
   "cell_type": "code",
   "execution_count": 10,
   "metadata": {},
   "outputs": [
    {
     "data": {
      "text/plain": [
       "     0    1    2    3    4\n",
       "0  1.0  0.0  0.0  0.0  0.0\n",
       "1  0.0  1.0  0.0  0.0  0.0\n",
       "2  0.0  0.0  1.0  0.0  0.0\n",
       "3  0.0  0.0  0.0  1.0  0.0\n",
       "4  0.0  0.0  0.0  0.0  1.0\n",
       "[5x5 SparseFrame of type '<class 'float64'>' \n",
       " with 5 stored elements in Compressed Sparse Row format]"
      ]
     },
     "execution_count": 10,
     "metadata": {},
     "output_type": "execute_result"
    }
   ],
   "source": [
    "import sparsity as sp3\n",
    "import scipy.sparse as sp2\n",
    "item_features = sp2.eye(5, 5).tocsr()\n",
    "eye = sp2.eye(5, 5).tocsr()\n",
    "sp3.SparseFrame(sp2.eye(5, 5).tocsr())"
   ]
  },
  {
   "cell_type": "code",
   "execution_count": 11,
   "metadata": {},
   "outputs": [
    {
     "data": {
      "text/plain": [
       "     0    1    2    3    4\n",
       "0  1.0  0.0  0.0  0.0  0.0\n",
       "1  0.0  1.0  0.0  0.0  0.0\n",
       "2  0.0  0.0  1.0  0.0  0.0\n",
       "3  0.0  0.0  0.0  1.0  0.0\n",
       "4  0.0  0.0  0.0  0.0  1.0\n",
       "[5x5 SparseFrame of type '<class 'float64'>' \n",
       " with 5 stored elements in Compressed Sparse Row format]"
      ]
     },
     "execution_count": 11,
     "metadata": {},
     "output_type": "execute_result"
    }
   ],
   "source": [
    "import bolt4ds.sparsity as sp5\n",
    "import scipy.sparse as sp2\n",
    "item_features = sp2.eye(5, 5).tocsr()\n",
    "eye = sp2.eye(5, 5).tocsr()\n",
    "sp5.SparseFrame(sp2.eye(5, 5).tocsr())"
   ]
  },
  {
   "cell_type": "code",
   "execution_count": 22,
   "metadata": {},
   "outputs": [
    {
     "name": "stdout",
     "output_type": "stream",
     "text": [
      "[master 7b678a7] add sparsity ingest\n",
      " 28 files changed, 4295 insertions(+), 44 deletions(-)\n",
      " create mode 100644 bolt4ds/ingest/.ipynb_checkpoints/__init__-checkpoint.py\n",
      " create mode 100644 bolt4ds/ingest/.ipynb_checkpoints/collect-checkpoint.py\n",
      " create mode 100644 bolt4ds/ingest/.ipynb_checkpoints/combine_csv-checkpoint.py\n",
      " create mode 100644 bolt4ds/ingest/.ipynb_checkpoints/combine_xls-checkpoint.py\n",
      " create mode 100644 bolt4ds/ingest/.ipynb_checkpoints/helpers-checkpoint.py\n",
      " create mode 100644 bolt4ds/ingest/.ipynb_checkpoints/pyftp_final-checkpoint.py\n",
      " create mode 100644 bolt4ds/ingest/.ipynb_checkpoints/sniffer-checkpoint.py\n",
      " create mode 100644 bolt4ds/ingest/.ipynb_checkpoints/sync-checkpoint.py\n",
      " create mode 100644 bolt4ds/ingest/.ipynb_checkpoints/utils-checkpoint.py\n",
      " create mode 100644 bolt4ds/ingest/__init__.py\n",
      " create mode 100644 bolt4ds/ingest/__pycache__/__init__.cpython-37.pyc\n",
      " create mode 100644 bolt4ds/ingest/__pycache__/collect.cpython-37.pyc\n",
      " create mode 100644 bolt4ds/ingest/__pycache__/combine_csv.cpython-37.pyc\n",
      " create mode 100644 bolt4ds/ingest/__pycache__/helpers.cpython-37.pyc\n",
      " create mode 100644 bolt4ds/ingest/__pycache__/sniffer.cpython-37.pyc\n",
      " create mode 100644 bolt4ds/ingest/__pycache__/utils.cpython-37.pyc\n",
      " create mode 100644 bolt4ds/ingest/collect.py\n",
      " create mode 100644 bolt4ds/ingest/combine_csv.py\n",
      " create mode 100644 bolt4ds/ingest/combine_xls.py\n",
      " create mode 100644 bolt4ds/ingest/helpers.py\n",
      " create mode 100644 bolt4ds/ingest/pyftp_final.py\n",
      " create mode 100644 bolt4ds/ingest/sniffer.py\n",
      " create mode 100644 bolt4ds/ingest/sync.py\n",
      " create mode 100644 bolt4ds/ingest/utils.py\n",
      "Enumerating objects: 28, done.\n",
      "Counting objects: 100% (28/28), done.\n",
      "Delta compression using up to 8 threads\n",
      "Compressing objects: 100% (24/24), done.\n",
      "Writing objects: 100% (24/24), 37.71 KiB | 5.39 MiB/s, done.\n",
      "Total 24 (delta 6), reused 0 (delta 0)\n",
      "remote: Resolving deltas: 100% (6/6), completed with 4 local objects.\u001b[K\n",
      "To https://github.com/leepand/bolt4ds\n",
      "   3af4174..7b678a7  master -> master\n",
      "Branch 'master' set up to track remote branch 'master' from 'origin'.\n"
     ]
    }
   ],
   "source": [
    "!git add .\n",
    "!git commit -m \"add join flow\"\n",
    "!git push origin -u master"
   ]
  },
  {
   "cell_type": "code",
   "execution_count": 23,
   "metadata": {},
   "outputs": [
    {
     "name": "stdout",
     "output_type": "stream",
     "text": [
      "Archive:  bolt4ds/ingest/examples/test-data.zip\n",
      " extracting: test-data/input/test-data-input-csv-reorder-jan.csv  \n",
      " extracting: test-data/input/test-data-input-noheader-csv-feb.csv  \n",
      " extracting: test-data/input/test-data-input-xls-mult-mar.xls-Sheet1.csv  \n",
      " extracting: test-data/input/test-data-input-csv-rename-21.csv  \n",
      " extracting: test-data/input/test-data-input-xls-mult-mar.xls-0.csv  \n",
      " extracting: test-data/input/test-data-input-xls-sing-mar.xls-0.csv  \n",
      " extracting: test-data/input/test-data-input-csv-clean-mar.csv  \n",
      " extracting: test-data/input/test-data-input-xls-mult-feb.xlsx-0.csv  \n",
      " extracting: test-data/input/test-data-input-xls-sing-feb.xls-0.csv  \n",
      " extracting: test-data/input/test-data-input-csv-colmismatch-mar.csv  \n",
      " extracting: test-data/input/test-data-input-csv-colmismatch2-mar.csv  \n",
      " extracting: test-data/input/test-data-input-noheader-csv-mar.csv  \n",
      " extracting: test-data/input/test-data-input-csv-rename-12.csv  \n",
      " extracting: test-data/input/test-data-input-csv-colmismatch2-feb.csv  \n",
      " extracting: test-data/input/test-data-input-csv-renamed-mar.csv  \n",
      " extracting: test-data/input/test-data-input-csv-renamed-feb.csv  \n",
      " extracting: test-data/input/test-data-input-noheader-csv-jan.csv  \n",
      " extracting: test-data/input/test-data-input-csv-renamed-jan.csv  \n",
      " extracting: test-data/input/test-data-input-xls-sing-jan.xls-0.csv  \n",
      " extracting: test-data/input/test-data-input-csv-rename-22.csv  \n",
      " extracting: test-data/input/test-data-input-xls-mult-feb.xls-Sheet1.csv  \n",
      " extracting: test-data/input/test-data-input-csv-clean-feb.csv  \n",
      " extracting: test-data/input/test-data-input-xls-mult-feb.xls-0.csv  \n",
      " extracting: test-data/input/test-data-input-xls-mult-mar.xlsx-0.csv  \n",
      " extracting: test-data/input/test-data-input-csv-rename-11.csv  \n",
      " extracting: test-data/input/test-data-input-csv-reorder-mar.csv  \n",
      " extracting: test-data/input/test-data-input-csv-rename-11-matched.csv  \n",
      " extracting: test-data/input/test-data-input-csv-colmismatch2-jan.csv  \n",
      " extracting: test-data/input/test-data-input-xls-mult-jan.xlsx-0.csv  \n",
      " extracting: test-data/input/test-data-input-csv-colmismatch-feb.csv  \n",
      " extracting: test-data/input/test-data-input-csv-reorder-feb.csv  \n",
      " extracting: test-data/input/test-data-input-xls-mult-jan.xls-0.csv  \n",
      " extracting: test-data/input/test-data-input-csv-clean-jan.csv  \n",
      " extracting: test-data/input/test-data-input-csv-colmismatch-jan.csv  \n",
      " extracting: test-data/input/test-data-input-csv-rename-22-matched.csv  \n",
      " extracting: test-data/input/test-data-input-xls-mult-jan.xls-Sheet1.csv  \n",
      " extracting: test-data/input/test-data-input-xls-sing-feb.xls  \n",
      " extracting: test-data/input/test-data-input-xls-mult-jan.xls  \n",
      " extracting: test-data/input/test-data-input-xls-sing-mar.xls  \n",
      " extracting: test-data/input/test-data-input-xls-mult-feb.xls  \n",
      " extracting: test-data/input/test-data-input-xls-mult-mar.xls  \n",
      " extracting: test-data/input/test-data-input-xls-sing-jan.xls  \n",
      " extracting: test-data/input/test-data-input-xls-sing-jan.xlsx  \n",
      " extracting: test-data/input/test-data-input-xls-sing-feb.xlsx  \n",
      " extracting: test-data/input/test-data-input-xls-mult-feb.xlsx  \n",
      " extracting: test-data/input/test-data-input-xls-mult-jan.xlsx  \n",
      " extracting: test-data/input/test-data-input-xls-sing-mar.xlsx  \n",
      " extracting: test-data/input/test-data-input-xls-mult-mar.xlsx  \n",
      " extracting: test-data/output/__init__.py  \n"
     ]
    }
   ],
   "source": [
    "!unzip bolt4ds/ingest/examples/test-data.zip"
   ]
  },
  {
   "cell_type": "code",
   "execution_count": 24,
   "metadata": {},
   "outputs": [
    {
     "name": "stdout",
     "output_type": "stream",
     "text": [
      "Looking in indexes: https://pypi.tuna.tsinghua.edu.cn/simple\n",
      "Collecting tensorflow\n",
      "\u001b[?25l  Downloading https://pypi.tuna.tsinghua.edu.cn/packages/49/b7/b6de9de9f14b940ad877fb376c6e1f72d6ea924affce04656b0423725e47/tensorflow-2.2.0-cp37-cp37m-macosx_10_11_x86_64.whl (175.3MB)\n",
      "\u001b[K     |████████████████████████████████| 175.3MB 182kB/s eta 0:00:015    |███▊                            | 20.6MB 12.5MB/s eta 0:00:13     |███████████████████▌            | 107.1MB 74kB/s eta 0:15:20     |███████████████████████████▎    | 149.7MB 152kB/s eta 0:02:49     |███████████████████████████████▋| 173.3MB 403kB/s eta 0:00:05\n",
      "\u001b[?25hCollecting tensorboard<2.3.0,>=2.2.0\n",
      "\u001b[?25l  Downloading https://pypi.tuna.tsinghua.edu.cn/packages/1d/fd/4f3ca1516cbb3713259ef229abd9314bba0077ef6070285dde0dd1ed21b2/tensorboard-2.2.1-py3-none-any.whl (3.0MB)\n",
      "\u001b[K     |████████████████████████████████| 3.0MB 14.4MB/s eta 0:00:01\n",
      "\u001b[?25hRequirement already satisfied: numpy<2.0,>=1.16.0 in /Users/leepand/miniconda3/lib/python3.7/site-packages (from tensorflow) (1.18.1)\n",
      "Collecting absl-py>=0.7.0\n",
      "\u001b[?25l  Downloading https://pypi.tuna.tsinghua.edu.cn/packages/1a/53/9243c600e047bd4c3df9e69cfabc1e8004a82cac2e0c484580a78a94ba2a/absl-py-0.9.0.tar.gz (104kB)\n",
      "\u001b[K     |████████████████████████████████| 112kB 15kB/s eta 0:00:011\n",
      "\u001b[?25hCollecting tensorflow-estimator<2.3.0,>=2.2.0\n",
      "\u001b[?25l  Downloading https://pypi.tuna.tsinghua.edu.cn/packages/a4/f5/926ae53d6a226ec0fda5208e0e581cffed895ccc89e36ba76a8e60895b78/tensorflow_estimator-2.2.0-py2.py3-none-any.whl (454kB)\n",
      "\u001b[K     |████████████████████████████████| 460kB 12.0MB/s eta 0:00:01\n",
      "\u001b[?25hRequirement already satisfied: wrapt>=1.11.1 in /Users/leepand/miniconda3/lib/python3.7/site-packages (from tensorflow) (1.11.2)\n",
      "Requirement already satisfied: scipy==1.4.1; python_version >= \"3\" in /Users/leepand/miniconda3/lib/python3.7/site-packages (from tensorflow) (1.4.1)\n",
      "Collecting keras-preprocessing>=1.1.0\n",
      "\u001b[?25l  Downloading https://pypi.tuna.tsinghua.edu.cn/packages/79/4c/7c3275a01e12ef9368a892926ab932b33bb13d55794881e3573482b378a7/Keras_Preprocessing-1.1.2-py2.py3-none-any.whl (42kB)\n",
      "\u001b[K     |████████████████████████████████| 51kB 4.0MB/s eta 0:00:011\n",
      "\u001b[?25hRequirement already satisfied: six>=1.12.0 in /Users/leepand/miniconda3/lib/python3.7/site-packages (from tensorflow) (1.12.0)\n",
      "Requirement already satisfied: h5py<2.11.0,>=2.10.0 in /Users/leepand/miniconda3/lib/python3.7/site-packages (from tensorflow) (2.10.0)\n",
      "Collecting termcolor>=1.1.0\n",
      "  Using cached https://pypi.tuna.tsinghua.edu.cn/packages/8a/48/a76be51647d0eb9f10e2a4511bf3ffb8cc1e6b14e9e4fab46173aa79f981/termcolor-1.1.0.tar.gz\n",
      "Requirement already satisfied: wheel>=0.26; python_version >= \"3\" in /Users/leepand/miniconda3/lib/python3.7/site-packages (from tensorflow) (0.33.6)\n",
      "Collecting astunparse==1.6.3\n",
      "  Downloading https://pypi.tuna.tsinghua.edu.cn/packages/2b/03/13dde6512ad7b4557eb792fbcf0c653af6076b81e5941d36ec61f7ce6028/astunparse-1.6.3-py2.py3-none-any.whl\n",
      "Collecting opt-einsum>=2.3.2\n",
      "\u001b[?25l  Downloading https://pypi.tuna.tsinghua.edu.cn/packages/63/a5/e6c07b08b934831ccb8c98ee335e66b7761c5754ee3cabfe4c11d0b1af28/opt_einsum-3.2.1-py3-none-any.whl (63kB)\n",
      "\u001b[K     |████████████████████████████████| 71kB 9.6MB/s  eta 0:00:01\n",
      "\u001b[?25hCollecting grpcio>=1.8.6\n",
      "\u001b[?25l  Downloading https://pypi.tuna.tsinghua.edu.cn/packages/59/75/5a949d048d96ecb3c304f14975f8a0965cb0d3c3f5f5f6b3f4e15c3d49eb/grpcio-1.29.0-cp37-cp37m-macosx_10_9_x86_64.whl (2.8MB)\n",
      "\u001b[K     |████████████████████████████████| 2.8MB 88kB/s eta 0:00:017\n",
      "\u001b[?25hCollecting google-pasta>=0.1.8\n",
      "\u001b[?25l  Downloading https://pypi.tuna.tsinghua.edu.cn/packages/a3/de/c648ef6835192e6e2cc03f40b19eeda4382c49b5bafb43d88b931c4c74ac/google_pasta-0.2.0-py3-none-any.whl (57kB)\n",
      "\u001b[K     |████████████████████████████████| 61kB 8.6MB/s eta 0:00:011\n",
      "\u001b[?25hRequirement already satisfied: protobuf>=3.8.0 in /Users/leepand/miniconda3/lib/python3.7/site-packages (from tensorflow) (3.11.2)\n",
      "Collecting gast==0.3.3\n",
      "  Downloading https://pypi.tuna.tsinghua.edu.cn/packages/d6/84/759f5dd23fec8ba71952d97bcc7e2c9d7d63bdc582421f3cd4be845f0c98/gast-0.3.3-py2.py3-none-any.whl\n",
      "Collecting tensorboard-plugin-wit>=1.6.0\n",
      "\u001b[?25l  Downloading https://pypi.tuna.tsinghua.edu.cn/packages/51/cd/a0c1f9e4582ea64dddf76c1b808b318d01e3b858a51c715bffab1016ecc7/tensorboard_plugin_wit-1.6.0.post3-py3-none-any.whl (777kB)\n",
      "\u001b[K     |████████████████████████████████| 778kB 7.9MB/s eta 0:00:01\n",
      "\u001b[?25hCollecting google-auth-oauthlib<0.5,>=0.4.1\n",
      "  Downloading https://pypi.tuna.tsinghua.edu.cn/packages/7b/b8/88def36e74bee9fce511c9519571f4e485e890093ab7442284f4ffaef60b/google_auth_oauthlib-0.4.1-py2.py3-none-any.whl\n",
      "Requirement already satisfied: requests<3,>=2.21.0 in /Users/leepand/miniconda3/lib/python3.7/site-packages (from tensorboard<2.3.0,>=2.2.0->tensorflow) (2.22.0)\n",
      "Collecting google-auth<2,>=1.6.3\n",
      "\u001b[?25l  Downloading https://pypi.tuna.tsinghua.edu.cn/packages/12/a3/2695fdcda305ea85c43ebd2a4d1429f3c7e897c7cf9045a8c378e1115a15/google_auth-1.15.0-py2.py3-none-any.whl (89kB)\n",
      "\u001b[K     |████████████████████████████████| 92kB 8.6MB/s eta 0:00:011\n",
      "\u001b[?25hRequirement already satisfied: werkzeug>=0.11.15 in /Users/leepand/miniconda3/lib/python3.7/site-packages (from tensorboard<2.3.0,>=2.2.0->tensorflow) (0.16.0)\n",
      "Requirement already satisfied: setuptools>=41.0.0 in /Users/leepand/miniconda3/lib/python3.7/site-packages (from tensorboard<2.3.0,>=2.2.0->tensorflow) (41.4.0)\n",
      "Requirement already satisfied: markdown>=2.6.8 in /Users/leepand/miniconda3/lib/python3.7/site-packages (from tensorboard<2.3.0,>=2.2.0->tensorflow) (3.1.1)\n",
      "Collecting requests-oauthlib>=0.7.0\n",
      "  Downloading https://pypi.tuna.tsinghua.edu.cn/packages/a3/12/b92740d845ab62ea4edf04d2f4164d82532b5a0b03836d4d4e71c6f3d379/requests_oauthlib-1.3.0-py2.py3-none-any.whl\n",
      "Requirement already satisfied: urllib3!=1.25.0,!=1.25.1,<1.26,>=1.21.1 in /Users/leepand/miniconda3/lib/python3.7/site-packages (from requests<3,>=2.21.0->tensorboard<2.3.0,>=2.2.0->tensorflow) (1.24.2)\n",
      "Requirement already satisfied: idna<2.9,>=2.5 in /Users/leepand/miniconda3/lib/python3.7/site-packages (from requests<3,>=2.21.0->tensorboard<2.3.0,>=2.2.0->tensorflow) (2.8)\n",
      "Requirement already satisfied: chardet<3.1.0,>=3.0.2 in /Users/leepand/miniconda3/lib/python3.7/site-packages (from requests<3,>=2.21.0->tensorboard<2.3.0,>=2.2.0->tensorflow) (3.0.4)\n",
      "Requirement already satisfied: certifi>=2017.4.17 in /Users/leepand/miniconda3/lib/python3.7/site-packages (from requests<3,>=2.21.0->tensorboard<2.3.0,>=2.2.0->tensorflow) (2019.9.11)\n",
      "Requirement already satisfied: pyasn1-modules>=0.2.1 in /Users/leepand/miniconda3/lib/python3.7/site-packages (from google-auth<2,>=1.6.3->tensorboard<2.3.0,>=2.2.0->tensorflow) (0.2.8)\n",
      "Requirement already satisfied: cachetools<5.0,>=2.0.0 in /Users/leepand/miniconda3/lib/python3.7/site-packages (from google-auth<2,>=1.6.3->tensorboard<2.3.0,>=2.2.0->tensorflow) (4.0.0)\n",
      "Requirement already satisfied: rsa<4.1,>=3.1.4 in /Users/leepand/miniconda3/lib/python3.7/site-packages (from google-auth<2,>=1.6.3->tensorboard<2.3.0,>=2.2.0->tensorflow) (4.0)\n",
      "Requirement already satisfied: oauthlib>=3.0.0 in /Users/leepand/miniconda3/lib/python3.7/site-packages (from requests-oauthlib>=0.7.0->google-auth-oauthlib<0.5,>=0.4.1->tensorboard<2.3.0,>=2.2.0->tensorflow) (3.1.0)\n",
      "Requirement already satisfied: pyasn1<0.5.0,>=0.4.6 in /Users/leepand/miniconda3/lib/python3.7/site-packages (from pyasn1-modules>=0.2.1->google-auth<2,>=1.6.3->tensorboard<2.3.0,>=2.2.0->tensorflow) (0.4.8)\n",
      "Building wheels for collected packages: absl-py, termcolor\n",
      "  Building wheel for absl-py (setup.py) ... \u001b[?25ldone\n",
      "\u001b[?25h  Created wheel for absl-py: filename=absl_py-0.9.0-cp37-none-any.whl size=121932 sha256=297473f59e362d9e1d7bb0e52def874585522d6ffbc7906994421effa88b7654\n",
      "  Stored in directory: /Users/leepand/Library/Caches/pip/wheels/55/fd/b5/4db4cce08516c3aaa68ee4c843439f45c7fcf177320ba63d9f\n",
      "  Building wheel for termcolor (setup.py) ... \u001b[?25ldone\n",
      "\u001b[?25h  Created wheel for termcolor: filename=termcolor-1.1.0-cp37-none-any.whl size=4832 sha256=f3ec165a02f0631dfa2d24d2c9e752c2d260d4d11cbcfd8bffe99909133033a1\n",
      "  Stored in directory: /Users/leepand/Library/Caches/pip/wheels/e3/d8/fc/50ab6e66e3dead21d5afff006dc5298913a3064be2b1105359\n",
      "Successfully built absl-py termcolor\n",
      "Installing collected packages: tensorboard-plugin-wit, absl-py, grpcio, requests-oauthlib, google-auth, google-auth-oauthlib, tensorboard, tensorflow-estimator, keras-preprocessing, termcolor, astunparse, opt-einsum, google-pasta, gast, tensorflow\n",
      "Successfully installed absl-py-0.9.0 astunparse-1.6.3 gast-0.3.3 google-auth-1.15.0 google-auth-oauthlib-0.4.1 google-pasta-0.2.0 grpcio-1.29.0 keras-preprocessing-1.1.2 opt-einsum-3.2.1 requests-oauthlib-1.3.0 tensorboard-2.2.1 tensorboard-plugin-wit-1.6.0.post3 tensorflow-2.2.0 tensorflow-estimator-2.2.0 termcolor-1.1.0\n"
     ]
    }
   ],
   "source": [
    "!pip install tensorflow -i https://pypi.tuna.tsinghua.edu.cn/simple"
   ]
  },
  {
   "cell_type": "code",
   "execution_count": null,
   "metadata": {},
   "outputs": [],
   "source": []
  }
 ],
 "metadata": {
  "kernelspec": {
   "display_name": "Python 3",
   "language": "python",
   "name": "python3"
  },
  "language_info": {
   "codemirror_mode": {
    "name": "ipython",
    "version": 3
   },
   "file_extension": ".py",
   "mimetype": "text/x-python",
   "name": "python",
   "nbconvert_exporter": "python",
   "pygments_lexer": "ipython3",
   "version": "3.7.4"
  }
 },
 "nbformat": 4,
 "nbformat_minor": 4
}
