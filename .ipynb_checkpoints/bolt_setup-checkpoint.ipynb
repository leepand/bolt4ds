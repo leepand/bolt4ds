{
 "cells": [
  {
   "cell_type": "code",
   "execution_count": 1,
   "metadata": {},
   "outputs": [],
   "source": [
    "!cp -r /Users/leepand/Downloads/github/sparsity/new_sparsity/sparsity/sparsity  ."
   ]
  },
  {
   "cell_type": "code",
   "execution_count": 8,
   "metadata": {},
   "outputs": [
    {
     "name": "stdout",
     "output_type": "stream",
     "text": [
      "__init__.py     _version.py     \u001b[34mdask\u001b[m\u001b[m            io_.py          sparse_frame.py\n",
      "\u001b[34m__pycache__\u001b[m\u001b[m     algolink_six.py indexing.py     \u001b[34mpandas_utils\u001b[m\u001b[m    \u001b[34mtest\u001b[m\u001b[m\n"
     ]
    }
   ],
   "source": [
    "!ls /Users/leepand/Downloads/github/sparsity/new_sparsity/sparsity/sparsity/"
   ]
  },
  {
   "cell_type": "code",
   "execution_count": 8,
   "metadata": {},
   "outputs": [
    {
     "name": "stdout",
     "output_type": "stream",
     "text": [
      "Processing /Users/leepand/Downloads/github/bolt4ds\n",
      "Requirement already satisfied: s3fs>=0.1.0 in /Users/leepand/miniconda3/lib/python3.7/site-packages (from bolt4ds==0+untagged.1.g242c0fe) (0.2.2)\n",
      "Requirement already satisfied: dask>0.20.0 in /Users/leepand/miniconda3/lib/python3.7/site-packages (from bolt4ds==0+untagged.1.g242c0fe) (2.16.0)\n",
      "Requirement already satisfied: botocore>=1.12.91 in /Users/leepand/miniconda3/lib/python3.7/site-packages (from s3fs>=0.1.0->bolt4ds==0+untagged.1.g242c0fe) (1.15.27)\n",
      "Requirement already satisfied: boto3>=1.9.91 in /Users/leepand/miniconda3/lib/python3.7/site-packages (from s3fs>=0.1.0->bolt4ds==0+untagged.1.g242c0fe) (1.12.27)\n",
      "Requirement already satisfied: six>=1.12.0 in /Users/leepand/miniconda3/lib/python3.7/site-packages (from s3fs>=0.1.0->bolt4ds==0+untagged.1.g242c0fe) (1.12.0)\n",
      "Requirement already satisfied: python-dateutil<3.0.0,>=2.1 in /Users/leepand/miniconda3/lib/python3.7/site-packages (from botocore>=1.12.91->s3fs>=0.1.0->bolt4ds==0+untagged.1.g242c0fe) (2.8.1)\n",
      "Requirement already satisfied: jmespath<1.0.0,>=0.7.1 in /Users/leepand/miniconda3/lib/python3.7/site-packages (from botocore>=1.12.91->s3fs>=0.1.0->bolt4ds==0+untagged.1.g242c0fe) (0.9.5)\n",
      "Requirement already satisfied: docutils<0.16,>=0.10 in /Users/leepand/miniconda3/lib/python3.7/site-packages (from botocore>=1.12.91->s3fs>=0.1.0->bolt4ds==0+untagged.1.g242c0fe) (0.15.2)\n",
      "Requirement already satisfied: urllib3<1.26,>=1.20; python_version != \"3.4\" in /Users/leepand/miniconda3/lib/python3.7/site-packages (from botocore>=1.12.91->s3fs>=0.1.0->bolt4ds==0+untagged.1.g242c0fe) (1.24.2)\n",
      "Requirement already satisfied: s3transfer<0.4.0,>=0.3.0 in /Users/leepand/miniconda3/lib/python3.7/site-packages (from boto3>=1.9.91->s3fs>=0.1.0->bolt4ds==0+untagged.1.g242c0fe) (0.3.3)\n",
      "Building wheels for collected packages: bolt4ds\n",
      "  Building wheel for bolt4ds (setup.py) ... \u001b[?25ldone\n",
      "\u001b[?25h  Created wheel for bolt4ds: filename=bolt4ds-0+untagged.1.g242c0fe-cp37-none-any.whl size=123262 sha256=45d1092d20ac4e6e1f9d35f97214551b5a6da5fba0dd677469f95429d0e9c374\n",
      "  Stored in directory: /private/var/folders/sl/gjmcfy096kqcf_rrr4_8tvlh0000gn/T/pip-ephem-wheel-cache-08pvwx7s/wheels/62/5c/34/74ca7677c4cc9321f5329d175f1f4064382b3e379129b034cb\n",
      "Successfully built bolt4ds\n",
      "Installing collected packages: bolt4ds\n",
      "Successfully installed bolt4ds-0+untagged.1.g242c0fe\n"
     ]
    }
   ],
   "source": [
    "!pip install ."
   ]
  },
  {
   "cell_type": "code",
   "execution_count": 10,
   "metadata": {},
   "outputs": [
    {
     "data": {
      "text/plain": [
       "     0    1    2    3    4\n",
       "0  1.0  0.0  0.0  0.0  0.0\n",
       "1  0.0  1.0  0.0  0.0  0.0\n",
       "2  0.0  0.0  1.0  0.0  0.0\n",
       "3  0.0  0.0  0.0  1.0  0.0\n",
       "4  0.0  0.0  0.0  0.0  1.0\n",
       "[5x5 SparseFrame of type '<class 'float64'>' \n",
       " with 5 stored elements in Compressed Sparse Row format]"
      ]
     },
     "execution_count": 10,
     "metadata": {},
     "output_type": "execute_result"
    }
   ],
   "source": [
    "import sparsity as sp3\n",
    "import scipy.sparse as sp2\n",
    "item_features = sp2.eye(5, 5).tocsr()\n",
    "eye = sp2.eye(5, 5).tocsr()\n",
    "sp3.SparseFrame(sp2.eye(5, 5).tocsr())"
   ]
  },
  {
   "cell_type": "code",
   "execution_count": 11,
   "metadata": {},
   "outputs": [
    {
     "data": {
      "text/plain": [
       "     0    1    2    3    4\n",
       "0  1.0  0.0  0.0  0.0  0.0\n",
       "1  0.0  1.0  0.0  0.0  0.0\n",
       "2  0.0  0.0  1.0  0.0  0.0\n",
       "3  0.0  0.0  0.0  1.0  0.0\n",
       "4  0.0  0.0  0.0  0.0  1.0\n",
       "[5x5 SparseFrame of type '<class 'float64'>' \n",
       " with 5 stored elements in Compressed Sparse Row format]"
      ]
     },
     "execution_count": 11,
     "metadata": {},
     "output_type": "execute_result"
    }
   ],
   "source": [
    "import bolt4ds.sparsity as sp5\n",
    "import scipy.sparse as sp2\n",
    "item_features = sp2.eye(5, 5).tocsr()\n",
    "eye = sp2.eye(5, 5).tocsr()\n",
    "sp5.SparseFrame(sp2.eye(5, 5).tocsr())"
   ]
  },
  {
   "cell_type": "code",
   "execution_count": null,
   "metadata": {},
   "outputs": [
    {
     "name": "stdout",
     "output_type": "stream",
     "text": [
      "[master f2a592e] first commit\n",
      " 4 files changed, 50 insertions(+), 14 deletions(-)\n"
     ]
    }
   ],
   "source": [
    "!git add .\n",
    "!git commit -m \"first commit\"\n",
    "!git push origin -u master"
   ]
  },
  {
   "cell_type": "code",
   "execution_count": null,
   "metadata": {},
   "outputs": [],
   "source": []
  }
 ],
 "metadata": {
  "kernelspec": {
   "display_name": "Python 3",
   "language": "python",
   "name": "python3"
  },
  "language_info": {
   "codemirror_mode": {
    "name": "ipython",
    "version": 3
   },
   "file_extension": ".py",
   "mimetype": "text/x-python",
   "name": "python",
   "nbconvert_exporter": "python",
   "pygments_lexer": "ipython3",
   "version": "3.7.4"
  }
 },
 "nbformat": 4,
 "nbformat_minor": 4
}
