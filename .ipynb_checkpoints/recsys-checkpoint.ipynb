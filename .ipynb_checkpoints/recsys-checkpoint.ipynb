{
 "cells": [
  {
   "cell_type": "code",
   "execution_count": 1,
   "metadata": {},
   "outputs": [],
   "source": [
    "import pandas as pd\n",
    "import csv\n",
    "\n",
    "path_base=\"/Users/leepand/Downloads/github/rec-a-sketch-master\"\n",
    "df_likes = pd.read_csv(path_base+'/data/model_likes_anon.psv',\n",
    "                 sep='|', quoting=csv.QUOTE_MINIMAL,\n",
    "                 quotechar='\\\\')\n",
    "df_likes.drop_duplicates(inplace=True)\n",
    "df_likes.head()\n",
    "\n",
    "\n",
    "sideinfo = pd.read_csv(path_base+'/data/model_feats.psv',\n",
    "                       sep='|', quoting=csv.QUOTE_MINIMAL,\n",
    "                       quotechar='\\\\')"
   ]
  },
  {
   "cell_type": "code",
   "execution_count": 3,
   "metadata": {},
   "outputs": [
    {
     "data": {
      "text/html": [
       "<div>\n",
       "<style scoped>\n",
       "    .dataframe tbody tr th:only-of-type {\n",
       "        vertical-align: middle;\n",
       "    }\n",
       "\n",
       "    .dataframe tbody tr th {\n",
       "        vertical-align: top;\n",
       "    }\n",
       "\n",
       "    .dataframe thead th {\n",
       "        text-align: right;\n",
       "    }\n",
       "</style>\n",
       "<table border=\"1\" class=\"dataframe\">\n",
       "  <thead>\n",
       "    <tr style=\"text-align: right;\">\n",
       "      <th></th>\n",
       "      <th>mid</th>\n",
       "      <th>type</th>\n",
       "      <th>value</th>\n",
       "    </tr>\n",
       "  </thead>\n",
       "  <tbody>\n",
       "    <tr>\n",
       "      <th>0</th>\n",
       "      <td>5dcebcfaedbd4e7b8a27bd1ae55f1ac3</td>\n",
       "      <td>category</td>\n",
       "      <td>Characters</td>\n",
       "    </tr>\n",
       "    <tr>\n",
       "      <th>1</th>\n",
       "      <td>5dcebcfaedbd4e7b8a27bd1ae55f1ac3</td>\n",
       "      <td>category</td>\n",
       "      <td>Gaming</td>\n",
       "    </tr>\n",
       "    <tr>\n",
       "      <th>2</th>\n",
       "      <td>5dcebcfaedbd4e7b8a27bd1ae55f1ac3</td>\n",
       "      <td>tag</td>\n",
       "      <td>3dsmax</td>\n",
       "    </tr>\n",
       "    <tr>\n",
       "      <th>3</th>\n",
       "      <td>5dcebcfaedbd4e7b8a27bd1ae55f1ac3</td>\n",
       "      <td>tag</td>\n",
       "      <td>noel</td>\n",
       "    </tr>\n",
       "    <tr>\n",
       "      <th>4</th>\n",
       "      <td>5dcebcfaedbd4e7b8a27bd1ae55f1ac3</td>\n",
       "      <td>tag</td>\n",
       "      <td>loli</td>\n",
       "    </tr>\n",
       "  </tbody>\n",
       "</table>\n",
       "</div>"
      ],
      "text/plain": [
       "                                mid      type       value\n",
       "0  5dcebcfaedbd4e7b8a27bd1ae55f1ac3  category  Characters\n",
       "1  5dcebcfaedbd4e7b8a27bd1ae55f1ac3  category      Gaming\n",
       "2  5dcebcfaedbd4e7b8a27bd1ae55f1ac3       tag      3dsmax\n",
       "3  5dcebcfaedbd4e7b8a27bd1ae55f1ac3       tag        noel\n",
       "4  5dcebcfaedbd4e7b8a27bd1ae55f1ac3       tag        loli"
      ]
     },
     "execution_count": 3,
     "metadata": {},
     "output_type": "execute_result"
    }
   ],
   "source": [
    "sideinfo.head()"
   ]
  },
  {
   "cell_type": "code",
   "execution_count": 2,
   "metadata": {},
   "outputs": [
    {
     "name": "stdout",
     "output_type": "stream",
     "text": [
      "Num users: 62583, num_items 28806.\n",
      "(28806, 21951)\n"
     ]
    }
   ],
   "source": [
    "#from lightfm.data import Dataset\n",
    "from bolt4ds.recsys.data import Dataset\n",
    "\n",
    "data = Dataset()\n",
    "data.fit(df_likes.uid.unique(), df_likes.mid.unique())\n",
    "num_users, num_items = data.interactions_shape()\n",
    "print('Num users: {}, num_items {}.'.format(num_users, num_items))\n",
    "\n",
    "\n",
    "interactions_matrix,weights_matrix = data.build_interactions([(i[1],i[0])for i in df_likes.drop(['modelname'], axis = 1).values])\n",
    "\n",
    "item_feats = data.buid_sparse_item_features(sideinfo)"
   ]
  },
  {
   "cell_type": "code",
   "execution_count": 9,
   "metadata": {},
   "outputs": [],
   "source": [
    "from web.py3helpers import (\n",
    "    is_iter,\n",
    "    iteritems,\n",
    "    itervalues,\n",
    ")\n",
    "\n",
    "def dictreverse(mapping):\n",
    "    \"\"\"\n",
    "    Returns a new dictionary with keys and values swapped.\n",
    "        >>> dictreverse({1: 2, 3: 4})\n",
    "        {2: 1, 4: 3}\n",
    "    \"\"\"\n",
    "    return dict([(value, key) for (key, value) in iteritems(mapping)])\n",
    "\n",
    "items_mapping  = data.mapping()[2]\n",
    "item_ids = dictreverse(items_mapping)\n",
    "idx_to_mid = item_ids"
   ]
  },
  {
   "cell_type": "code",
   "execution_count": 10,
   "metadata": {},
   "outputs": [
    {
     "data": {
      "text/plain": [
       "0        2.158481\n",
       "1        2.185728\n",
       "2        1.983770\n",
       "3        1.921216\n",
       "4        1.689276\n",
       "           ...   \n",
       "28801   -1.265289\n",
       "28802   -1.328992\n",
       "28803   -0.748338\n",
       "28804   -1.194334\n",
       "28805   -0.537891\n",
       "Length: 28806, dtype: float64"
      ]
     },
     "execution_count": 10,
     "metadata": {},
     "output_type": "execute_result"
    }
   ],
   "source": [
    "import bolt4ds.sparsity as sp3\n",
    "import numpy as np\n",
    "from bolt4ds.recsys.algo.lightfm_auto import LFMRecommender\n",
    "\n",
    "test=LFMRecommender(indicators=\"both\",loss='warp', random_state=2020)\n",
    "\n",
    "test.fit_partial(sp3.SparseFrame(interactions_matrix))\n",
    "items = df_likes.mid.index.unique()\n",
    "#df_likes.mid.unique()\n",
    "idx_to_mid = item_ids\n",
    "scores = test.predict_online(user_id=625844, item_ids= list(idx_to_mid.keys()), item_features=None,\n",
    "                             user_features=None, num_threads=3, use_baseline=False)\n",
    "\n",
    "#i_idx = [x for x in np.argsort(-scores)]\n",
    "scores"
   ]
  },
  {
   "cell_type": "code",
   "execution_count": 11,
   "metadata": {},
   "outputs": [],
   "source": [
    "test2=LFMRecommender(indicators=\"both\",loss='warp', random_state=2020)\n",
    "item_features= sp3.SparseFrame(item_feats)\n",
    "test2.fit_partial(sp3.SparseFrame(interactions_matrix),item_features=item_features)\n"
   ]
  },
  {
   "cell_type": "code",
   "execution_count": 12,
   "metadata": {},
   "outputs": [
    {
     "data": {
      "text/plain": [
       "0        6.532302\n",
       "1        5.458549\n",
       "2        5.380723\n",
       "3        4.790645\n",
       "4        4.219454\n",
       "           ...   \n",
       "28801   -0.176589\n",
       "28802   -2.519736\n",
       "28803   -0.221245\n",
       "28804   -2.177250\n",
       "28805   -0.954533\n",
       "Length: 28806, dtype: float64"
      ]
     },
     "execution_count": 12,
     "metadata": {},
     "output_type": "execute_result"
    }
   ],
   "source": [
    "scores2 = test2.predict_online(user_id=625844, item_ids= list(idx_to_mid.keys()), item_features=item_features,\n",
    "                             user_features=None, num_threads=3, use_baseline=False)\n",
    "\n",
    "scores2"
   ]
  },
  {
   "cell_type": "code",
   "execution_count": null,
   "metadata": {},
   "outputs": [],
   "source": []
  }
 ],
 "metadata": {
  "kernelspec": {
   "display_name": "Python 3",
   "language": "python",
   "name": "python3"
  },
  "language_info": {
   "codemirror_mode": {
    "name": "ipython",
    "version": 3
   },
   "file_extension": ".py",
   "mimetype": "text/x-python",
   "name": "python",
   "nbconvert_exporter": "python",
   "pygments_lexer": "ipython3",
   "version": "3.7.4"
  }
 },
 "nbformat": 4,
 "nbformat_minor": 4
}
