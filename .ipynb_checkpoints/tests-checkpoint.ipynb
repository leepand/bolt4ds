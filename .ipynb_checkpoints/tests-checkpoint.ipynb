{
 "cells": [
  {
   "cell_type": "code",
   "execution_count": 2,
   "metadata": {},
   "outputs": [
    {
     "data": {
      "text/html": [
       "<div>\n",
       "<style scoped>\n",
       "    .dataframe tbody tr th:only-of-type {\n",
       "        vertical-align: middle;\n",
       "    }\n",
       "\n",
       "    .dataframe tbody tr th {\n",
       "        vertical-align: top;\n",
       "    }\n",
       "\n",
       "    .dataframe thead th {\n",
       "        text-align: right;\n",
       "    }\n",
       "</style>\n",
       "<table border=\"1\" class=\"dataframe\">\n",
       "  <thead>\n",
       "    <tr style=\"text-align: right;\">\n",
       "      <th></th>\n",
       "      <th>min_height</th>\n",
       "      <th>max_height</th>\n",
       "      <th>sum_height</th>\n",
       "      <th>average_weight</th>\n",
       "    </tr>\n",
       "    <tr>\n",
       "      <th>kind</th>\n",
       "      <th></th>\n",
       "      <th></th>\n",
       "      <th></th>\n",
       "      <th></th>\n",
       "    </tr>\n",
       "  </thead>\n",
       "  <tbody>\n",
       "    <tr>\n",
       "      <th>cat</th>\n",
       "      <td>9.1</td>\n",
       "      <td>9.5</td>\n",
       "      <td>18.6</td>\n",
       "      <td>8.90</td>\n",
       "    </tr>\n",
       "    <tr>\n",
       "      <th>dog</th>\n",
       "      <td>6.0</td>\n",
       "      <td>34.0</td>\n",
       "      <td>40.0</td>\n",
       "      <td>102.75</td>\n",
       "    </tr>\n",
       "  </tbody>\n",
       "</table>\n",
       "</div>"
      ],
      "text/plain": [
       "      min_height  max_height  sum_height  average_weight\n",
       "kind                                                    \n",
       "cat          9.1         9.5        18.6            8.90\n",
       "dog          6.0        34.0        40.0          102.75"
      ]
     },
     "execution_count": 2,
     "metadata": {},
     "output_type": "execute_result"
    }
   ],
   "source": [
    "import numpy as np\n",
    "import pandas as pd\n",
    "animals = pd.DataFrame({'kind': ['cat', 'dog', 'cat', 'dog'],\n",
    "                         'height': [9.1, 6.0, 9.5, 34.0],\n",
    "                         'weight': [7.9, 7.5, 9.9, 198.0]})\n",
    "\n",
    "animals.groupby(\"kind\").agg(\n",
    "        min_height=('height', 'min'),\n",
    "        max_height=('height', 'max'),\n",
    "        sum_height=('height', 'sum'),\n",
    "        average_weight=('weight', np.mean),\n",
    "    )\n",
    "\n"
   ]
  },
  {
   "cell_type": "code",
   "execution_count": 10,
   "metadata": {},
   "outputs": [],
   "source": [
    "from bolt4ds.ingest import pd_to_mysql,pd_readsql"
   ]
  },
  {
   "cell_type": "code",
   "execution_count": 8,
   "metadata": {},
   "outputs": [
    {
     "name": "stdout",
     "output_type": "stream",
     "text": [
      "creating mysql.csv ok\n",
      "loading mysql.csv ok\n"
     ]
    },
    {
     "data": {
      "text/plain": [
       "True"
      ]
     },
     "execution_count": 8,
     "metadata": {},
     "output_type": "execute_result"
    }
   ],
   "source": [
    "pd_to_mysql(animals, 'mysql+mysqlconnector://root@127.0.0.1/boledw', 'all_uid_v5',if_exists='replace')\n"
   ]
  },
  {
   "cell_type": "code",
   "execution_count": 9,
   "metadata": {},
   "outputs": [
    {
     "data": {
      "text/html": [
       "<div>\n",
       "<style scoped>\n",
       "    .dataframe tbody tr th:only-of-type {\n",
       "        vertical-align: middle;\n",
       "    }\n",
       "\n",
       "    .dataframe tbody tr th {\n",
       "        vertical-align: top;\n",
       "    }\n",
       "\n",
       "    .dataframe thead th {\n",
       "        text-align: right;\n",
       "    }\n",
       "</style>\n",
       "<table border=\"1\" class=\"dataframe\">\n",
       "  <thead>\n",
       "    <tr style=\"text-align: right;\">\n",
       "      <th></th>\n",
       "      <th>kind</th>\n",
       "      <th>height</th>\n",
       "      <th>weight</th>\n",
       "    </tr>\n",
       "  </thead>\n",
       "  <tbody>\n",
       "    <tr>\n",
       "      <th>0</th>\n",
       "      <td>cat</td>\n",
       "      <td>9.1</td>\n",
       "      <td>7.9</td>\n",
       "    </tr>\n",
       "    <tr>\n",
       "      <th>1</th>\n",
       "      <td>dog</td>\n",
       "      <td>6.0</td>\n",
       "      <td>7.5</td>\n",
       "    </tr>\n",
       "    <tr>\n",
       "      <th>2</th>\n",
       "      <td>cat</td>\n",
       "      <td>9.5</td>\n",
       "      <td>9.9</td>\n",
       "    </tr>\n",
       "    <tr>\n",
       "      <th>3</th>\n",
       "      <td>dog</td>\n",
       "      <td>34.0</td>\n",
       "      <td>198.0</td>\n",
       "    </tr>\n",
       "  </tbody>\n",
       "</table>\n",
       "</div>"
      ],
      "text/plain": [
       "  kind  height  weight\n",
       "0  cat     9.1     7.9\n",
       "1  dog     6.0     7.5\n",
       "2  cat     9.5     9.9\n",
       "3  dog    34.0   198.0"
      ]
     },
     "execution_count": 9,
     "metadata": {},
     "output_type": "execute_result"
    }
   ],
   "source": [
    "animals"
   ]
  },
  {
   "cell_type": "code",
   "execution_count": 13,
   "metadata": {},
   "outputs": [
    {
     "data": {
      "text/html": [
       "<div>\n",
       "<style scoped>\n",
       "    .dataframe tbody tr th:only-of-type {\n",
       "        vertical-align: middle;\n",
       "    }\n",
       "\n",
       "    .dataframe tbody tr th {\n",
       "        vertical-align: top;\n",
       "    }\n",
       "\n",
       "    .dataframe thead th {\n",
       "        text-align: right;\n",
       "    }\n",
       "</style>\n",
       "<table border=\"1\" class=\"dataframe\">\n",
       "  <thead>\n",
       "    <tr style=\"text-align: right;\">\n",
       "      <th></th>\n",
       "      <th>0</th>\n",
       "      <th>1</th>\n",
       "      <th>2</th>\n",
       "    </tr>\n",
       "  </thead>\n",
       "  <tbody>\n",
       "    <tr>\n",
       "      <th>0</th>\n",
       "      <td>cat</td>\n",
       "      <td>9.1</td>\n",
       "      <td>7.9</td>\n",
       "    </tr>\n",
       "    <tr>\n",
       "      <th>1</th>\n",
       "      <td>dog</td>\n",
       "      <td>6.0</td>\n",
       "      <td>7.5</td>\n",
       "    </tr>\n",
       "    <tr>\n",
       "      <th>2</th>\n",
       "      <td>cat</td>\n",
       "      <td>9.5</td>\n",
       "      <td>9.9</td>\n",
       "    </tr>\n",
       "    <tr>\n",
       "      <th>3</th>\n",
       "      <td>dog</td>\n",
       "      <td>34.0</td>\n",
       "      <td>198.0</td>\n",
       "    </tr>\n",
       "  </tbody>\n",
       "</table>\n",
       "</div>"
      ],
      "text/plain": [
       "     0     1      2\n",
       "0  cat   9.1    7.9\n",
       "1  dog   6.0    7.5\n",
       "2  cat   9.5    9.9\n",
       "3  dog  34.0  198.0"
      ]
     },
     "execution_count": 13,
     "metadata": {},
     "output_type": "execute_result"
    }
   ],
   "source": [
    "url = 'mysql+mysqlconnector://root@127.0.0.1/boledw'\n",
    "sql = \"select kind,height,weight from all_uid_v5\"\n",
    "pd_readsql(url,sql)\n"
   ]
  },
  {
   "cell_type": "code",
   "execution_count": 14,
   "metadata": {},
   "outputs": [],
   "source": [
    "import importlib\n",
    "import pandas as pd\n",
    "import glob\n",
    "\n",
    "import bolt4ds.ingest.combine_csv as d6tc\n"
   ]
  },
  {
   "cell_type": "markdown",
   "metadata": {},
   "source": [
    "## Use Case: Checking Column Consistency\n",
    "\n",
    "Let's say you receive a bunch of csv files you want to ingest them, say for example into pandas, dask, pyspark, database."
   ]
  },
  {
   "cell_type": "code",
   "execution_count": 15,
   "metadata": {},
   "outputs": [
    {
     "name": "stdout",
     "output_type": "stream",
     "text": [
      "['bolt4ds/ingest/examples/test-data/input/test-data-input-csv-clean-feb.csv', 'bolt4ds/ingest/examples/test-data/input/test-data-input-csv-clean-mar.csv', 'bolt4ds/ingest/examples/test-data/input/test-data-input-csv-clean-jan.csv']\n"
     ]
    }
   ],
   "source": [
    "cfg_fnames = list(glob.glob('bolt4ds/ingest/examples/test-data/input/test-data-input-csv-clean-*.csv'))\n",
    "print(cfg_fnames)"
   ]
  },
  {
   "cell_type": "markdown",
   "metadata": {},
   "source": [
    "### Check column consistency across all files\n",
    "\n",
    "Even if you think the files have a consistent column layout, it worthwhile using `bolt4ds` to assert that that is actually the case. It's very quick to do even with very many large files!"
   ]
  },
  {
   "cell_type": "code",
   "execution_count": 16,
   "metadata": {},
   "outputs": [
    {
     "name": "stdout",
     "output_type": "stream",
     "text": [
      "sniffing columns ok\n"
     ]
    }
   ],
   "source": [
    "# get previews\n",
    "c = d6tc.CombinerCSV(cfg_fnames) # all_strings=True makes reading faster\n",
    "col_sniff = c.sniff_columns()"
   ]
  },
  {
   "cell_type": "code",
   "execution_count": 17,
   "metadata": {},
   "outputs": [
    {
     "name": "stdout",
     "output_type": "stream",
     "text": [
      "all columns equal? True\n",
      "\n",
      "which columns are present in which files?\n",
      "\n",
      "                                                    date  sales  cost  profit\n",
      "file_path                                                                    \n",
      "bolt4ds/ingest/examples/test-data/input/test-da...  True   True  True    True\n",
      "bolt4ds/ingest/examples/test-data/input/test-da...  True   True  True    True\n",
      "bolt4ds/ingest/examples/test-data/input/test-da...  True   True  True    True\n",
      "\n",
      "in what order do columns appear in the files?\n",
      "\n",
      "   date  sales  cost  profit\n",
      "0     0      1     2       3\n",
      "1     0      1     2       3\n",
      "2     0      1     2       3\n"
     ]
    }
   ],
   "source": [
    "print('all columns equal?', c.is_all_equal())\n",
    "print('')\n",
    "print('which columns are present in which files?')\n",
    "print('')\n",
    "print(c.is_column_present())\n",
    "print('')\n",
    "print('in what order do columns appear in the files?')\n",
    "print('')\n",
    "print(col_sniff['df_columns_order'].reset_index(drop=True))"
   ]
  },
  {
   "cell_type": "markdown",
   "metadata": {},
   "source": [
    "### Preview Combined Data\n",
    "\n",
    "You can see a preview of what the combined data from all files will look like."
   ]
  },
  {
   "cell_type": "code",
   "execution_count": 18,
   "metadata": {},
   "outputs": [
    {
     "data": {
      "text/html": [
       "<div>\n",
       "<style scoped>\n",
       "    .dataframe tbody tr th:only-of-type {\n",
       "        vertical-align: middle;\n",
       "    }\n",
       "\n",
       "    .dataframe tbody tr th {\n",
       "        vertical-align: top;\n",
       "    }\n",
       "\n",
       "    .dataframe thead th {\n",
       "        text-align: right;\n",
       "    }\n",
       "</style>\n",
       "<table border=\"1\" class=\"dataframe\">\n",
       "  <thead>\n",
       "    <tr style=\"text-align: right;\">\n",
       "      <th></th>\n",
       "      <th>date</th>\n",
       "      <th>sales</th>\n",
       "      <th>cost</th>\n",
       "      <th>profit</th>\n",
       "      <th>filepath</th>\n",
       "      <th>filename</th>\n",
       "    </tr>\n",
       "  </thead>\n",
       "  <tbody>\n",
       "    <tr>\n",
       "      <th>0</th>\n",
       "      <td>2011-02-01</td>\n",
       "      <td>200</td>\n",
       "      <td>-90</td>\n",
       "      <td>110</td>\n",
       "      <td>bolt4ds/ingest/examples/test-data/input/test-d...</td>\n",
       "      <td>test-data-input-csv-clean-feb.csv</td>\n",
       "    </tr>\n",
       "    <tr>\n",
       "      <th>1</th>\n",
       "      <td>2011-02-02</td>\n",
       "      <td>200</td>\n",
       "      <td>-90</td>\n",
       "      <td>110</td>\n",
       "      <td>bolt4ds/ingest/examples/test-data/input/test-d...</td>\n",
       "      <td>test-data-input-csv-clean-feb.csv</td>\n",
       "    </tr>\n",
       "    <tr>\n",
       "      <th>2</th>\n",
       "      <td>2011-02-03</td>\n",
       "      <td>200</td>\n",
       "      <td>-90</td>\n",
       "      <td>110</td>\n",
       "      <td>bolt4ds/ingest/examples/test-data/input/test-d...</td>\n",
       "      <td>test-data-input-csv-clean-feb.csv</td>\n",
       "    </tr>\n",
       "    <tr>\n",
       "      <th>3</th>\n",
       "      <td>2011-01-01</td>\n",
       "      <td>100</td>\n",
       "      <td>-80</td>\n",
       "      <td>20</td>\n",
       "      <td>bolt4ds/ingest/examples/test-data/input/test-d...</td>\n",
       "      <td>test-data-input-csv-clean-jan.csv</td>\n",
       "    </tr>\n",
       "    <tr>\n",
       "      <th>4</th>\n",
       "      <td>2011-01-02</td>\n",
       "      <td>100</td>\n",
       "      <td>-80</td>\n",
       "      <td>20</td>\n",
       "      <td>bolt4ds/ingest/examples/test-data/input/test-d...</td>\n",
       "      <td>test-data-input-csv-clean-jan.csv</td>\n",
       "    </tr>\n",
       "    <tr>\n",
       "      <th>5</th>\n",
       "      <td>2011-01-03</td>\n",
       "      <td>100</td>\n",
       "      <td>-80</td>\n",
       "      <td>20</td>\n",
       "      <td>bolt4ds/ingest/examples/test-data/input/test-d...</td>\n",
       "      <td>test-data-input-csv-clean-jan.csv</td>\n",
       "    </tr>\n",
       "    <tr>\n",
       "      <th>6</th>\n",
       "      <td>2011-03-01</td>\n",
       "      <td>300</td>\n",
       "      <td>-100</td>\n",
       "      <td>200</td>\n",
       "      <td>bolt4ds/ingest/examples/test-data/input/test-d...</td>\n",
       "      <td>test-data-input-csv-clean-mar.csv</td>\n",
       "    </tr>\n",
       "    <tr>\n",
       "      <th>7</th>\n",
       "      <td>2011-03-02</td>\n",
       "      <td>300</td>\n",
       "      <td>-100</td>\n",
       "      <td>200</td>\n",
       "      <td>bolt4ds/ingest/examples/test-data/input/test-d...</td>\n",
       "      <td>test-data-input-csv-clean-mar.csv</td>\n",
       "    </tr>\n",
       "    <tr>\n",
       "      <th>8</th>\n",
       "      <td>2011-03-03</td>\n",
       "      <td>300</td>\n",
       "      <td>-100</td>\n",
       "      <td>200</td>\n",
       "      <td>bolt4ds/ingest/examples/test-data/input/test-d...</td>\n",
       "      <td>test-data-input-csv-clean-mar.csv</td>\n",
       "    </tr>\n",
       "  </tbody>\n",
       "</table>\n",
       "</div>"
      ],
      "text/plain": [
       "         date  sales  cost  profit                                           filepath                           filename\n",
       "0  2011-02-01    200   -90     110  bolt4ds/ingest/examples/test-data/input/test-d...  test-data-input-csv-clean-feb.csv\n",
       "1  2011-02-02    200   -90     110  bolt4ds/ingest/examples/test-data/input/test-d...  test-data-input-csv-clean-feb.csv\n",
       "2  2011-02-03    200   -90     110  bolt4ds/ingest/examples/test-data/input/test-d...  test-data-input-csv-clean-feb.csv\n",
       "3  2011-01-01    100   -80      20  bolt4ds/ingest/examples/test-data/input/test-d...  test-data-input-csv-clean-jan.csv\n",
       "4  2011-01-02    100   -80      20  bolt4ds/ingest/examples/test-data/input/test-d...  test-data-input-csv-clean-jan.csv\n",
       "5  2011-01-03    100   -80      20  bolt4ds/ingest/examples/test-data/input/test-d...  test-data-input-csv-clean-jan.csv\n",
       "6  2011-03-01    300  -100     200  bolt4ds/ingest/examples/test-data/input/test-d...  test-data-input-csv-clean-mar.csv\n",
       "7  2011-03-02    300  -100     200  bolt4ds/ingest/examples/test-data/input/test-d...  test-data-input-csv-clean-mar.csv\n",
       "8  2011-03-03    300  -100     200  bolt4ds/ingest/examples/test-data/input/test-d...  test-data-input-csv-clean-mar.csv"
      ]
     },
     "execution_count": 18,
     "metadata": {},
     "output_type": "execute_result"
    }
   ],
   "source": [
    "c.combine_preview()"
   ]
  },
  {
   "cell_type": "markdown",
   "metadata": {},
   "source": [
    "### Read All Files to Pandas\n",
    "\n",
    "You can quickly load the combined data into a pandas dataframe with a single command. "
   ]
  },
  {
   "cell_type": "code",
   "execution_count": 19,
   "metadata": {},
   "outputs": [
    {
     "data": {
      "text/html": [
       "<div>\n",
       "<style scoped>\n",
       "    .dataframe tbody tr th:only-of-type {\n",
       "        vertical-align: middle;\n",
       "    }\n",
       "\n",
       "    .dataframe tbody tr th {\n",
       "        vertical-align: top;\n",
       "    }\n",
       "\n",
       "    .dataframe thead th {\n",
       "        text-align: right;\n",
       "    }\n",
       "</style>\n",
       "<table border=\"1\" class=\"dataframe\">\n",
       "  <thead>\n",
       "    <tr style=\"text-align: right;\">\n",
       "      <th></th>\n",
       "      <th>date</th>\n",
       "      <th>sales</th>\n",
       "      <th>cost</th>\n",
       "      <th>profit</th>\n",
       "      <th>filepath</th>\n",
       "      <th>filename</th>\n",
       "    </tr>\n",
       "  </thead>\n",
       "  <tbody>\n",
       "    <tr>\n",
       "      <th>0</th>\n",
       "      <td>2011-02-01</td>\n",
       "      <td>200</td>\n",
       "      <td>-90</td>\n",
       "      <td>110</td>\n",
       "      <td>bolt4ds/ingest/examples/test-data/input/test-d...</td>\n",
       "      <td>test-data-input-csv-clean-feb.csv</td>\n",
       "    </tr>\n",
       "    <tr>\n",
       "      <th>1</th>\n",
       "      <td>2011-02-02</td>\n",
       "      <td>200</td>\n",
       "      <td>-90</td>\n",
       "      <td>110</td>\n",
       "      <td>bolt4ds/ingest/examples/test-data/input/test-d...</td>\n",
       "      <td>test-data-input-csv-clean-feb.csv</td>\n",
       "    </tr>\n",
       "    <tr>\n",
       "      <th>2</th>\n",
       "      <td>2011-02-03</td>\n",
       "      <td>200</td>\n",
       "      <td>-90</td>\n",
       "      <td>110</td>\n",
       "      <td>bolt4ds/ingest/examples/test-data/input/test-d...</td>\n",
       "      <td>test-data-input-csv-clean-feb.csv</td>\n",
       "    </tr>\n",
       "    <tr>\n",
       "      <th>3</th>\n",
       "      <td>2011-02-04</td>\n",
       "      <td>200</td>\n",
       "      <td>-90</td>\n",
       "      <td>110</td>\n",
       "      <td>bolt4ds/ingest/examples/test-data/input/test-d...</td>\n",
       "      <td>test-data-input-csv-clean-feb.csv</td>\n",
       "    </tr>\n",
       "    <tr>\n",
       "      <th>4</th>\n",
       "      <td>2011-02-05</td>\n",
       "      <td>200</td>\n",
       "      <td>-90</td>\n",
       "      <td>110</td>\n",
       "      <td>bolt4ds/ingest/examples/test-data/input/test-d...</td>\n",
       "      <td>test-data-input-csv-clean-feb.csv</td>\n",
       "    </tr>\n",
       "  </tbody>\n",
       "</table>\n",
       "</div>"
      ],
      "text/plain": [
       "         date  sales  cost  profit                                           filepath                           filename\n",
       "0  2011-02-01    200   -90     110  bolt4ds/ingest/examples/test-data/input/test-d...  test-data-input-csv-clean-feb.csv\n",
       "1  2011-02-02    200   -90     110  bolt4ds/ingest/examples/test-data/input/test-d...  test-data-input-csv-clean-feb.csv\n",
       "2  2011-02-03    200   -90     110  bolt4ds/ingest/examples/test-data/input/test-d...  test-data-input-csv-clean-feb.csv\n",
       "3  2011-02-04    200   -90     110  bolt4ds/ingest/examples/test-data/input/test-d...  test-data-input-csv-clean-feb.csv\n",
       "4  2011-02-05    200   -90     110  bolt4ds/ingest/examples/test-data/input/test-d...  test-data-input-csv-clean-feb.csv"
      ]
     },
     "execution_count": 19,
     "metadata": {},
     "output_type": "execute_result"
    }
   ],
   "source": [
    "c.to_pandas().head()"
   ]
  },
  {
   "cell_type": "code",
   "execution_count": 23,
   "metadata": {},
   "outputs": [],
   "source": [
    "\n",
    "try:\n",
    "    from tensorflow.python.keras.engine.saving import load_model\n",
    "except:\n",
    "    from tensorflow.keras.models import load_model"
   ]
  },
  {
   "cell_type": "code",
   "execution_count": 22,
   "metadata": {},
   "outputs": [],
   "source": [
    "from tensorflow.keras.models import load_model"
   ]
  },
  {
   "cell_type": "code",
   "execution_count": 18,
   "metadata": {},
   "outputs": [
    {
     "name": "stderr",
     "output_type": "stream",
     "text": [
      "INFO: Informed scheduler that task   TaskTrain_True_nnet_c261e0a55b   has status   PENDING\n",
      "INFO: Done scheduling tasks\n",
      "INFO: Running Worker with 1 processes\n",
      "INFO: [pid 76393] Worker Worker(salt=559991990, workers=1, host=bogon, username=leepand, pid=76393) running   TaskTrain(do_preprocess=True, model=nnet)\n",
      "INFO: [pid 76393] Worker Worker(salt=559991990, workers=1, host=bogon, username=leepand, pid=76393) done      TaskTrain(do_preprocess=True, model=nnet)\n",
      "INFO: Informed scheduler that task   TaskTrain_True_nnet_c261e0a55b   has status   DONE\n",
      "INFO: Worker Worker(salt=559991990, workers=1, host=bogon, username=leepand, pid=76393) was stopped. Shutting down Keep-Alive thread\n",
      "INFO: \n",
      "===== Luigi Execution Summary =====\n",
      "\n",
      "Scheduled 1 tasks of which:\n",
      "* 1 ran successfully:\n",
      "    - 1 TaskTrain(do_preprocess=True, model=nnet)\n",
      "\n",
      "This progress looks :) because there were no failed tasks or missing dependencies\n",
      "\n",
      "===== Luigi Execution Summary =====\n",
      "\n",
      "INFO: Informed scheduler that task   TaskTrain_True_xgboost_4f19cdc1cc   has status   PENDING\n",
      "INFO: Done scheduling tasks\n",
      "INFO: Running Worker with 1 processes\n",
      "INFO: [pid 76393] Worker Worker(salt=583555473, workers=1, host=bogon, username=leepand, pid=76393) running   TaskTrain(do_preprocess=True, model=xgboost)\n",
      "INFO: [pid 76393] Worker Worker(salt=583555473, workers=1, host=bogon, username=leepand, pid=76393) done      TaskTrain(do_preprocess=True, model=xgboost)\n",
      "INFO: Informed scheduler that task   TaskTrain_True_xgboost_4f19cdc1cc   has status   DONE\n",
      "INFO: Worker Worker(salt=583555473, workers=1, host=bogon, username=leepand, pid=76393) was stopped. Shutting down Keep-Alive thread\n",
      "INFO: \n",
      "===== Luigi Execution Summary =====\n",
      "\n",
      "Scheduled 1 tasks of which:\n",
      "* 1 ran successfully:\n",
      "    - 1 TaskTrain(do_preprocess=True, model=xgboost)\n",
      "\n",
      "This progress looks :) because there were no failed tasks or missing dependencies\n",
      "\n",
      "===== Luigi Execution Summary =====\n",
      "\n"
     ]
    },
    {
     "name": "stdout",
     "output_type": "stream",
     "text": [
      "<luigi.parameter.Parameter object at 0x121a47e50> model\n"
     ]
    },
    {
     "data": {
      "text/plain": [
       "True"
      ]
     },
     "execution_count": 18,
     "metadata": {},
     "output_type": "execute_result"
    }
   ],
   "source": [
    "import datetime\n",
    "import bolt4ds.flow.tasks\n",
    "from bolt4ds import flow as d6tflow\n",
    "import luigi\n",
    "class TaskTrain(d6tflow.tasks.TaskPqPandas):\n",
    "    do_preprocess = luigi.BoolParameter(default=True)\n",
    "    model = luigi.Parameter(default='xgboost')\n",
    "    print(model,\"model\")\n",
    "d6tflow.run(TaskTrain(do_preprocess=True, model='nnet'))\n",
    "d6tflow.run(TaskTrain(do_preprocess=True)) # use default model='xgboost'"
   ]
  },
  {
   "cell_type": "code",
   "execution_count": 19,
   "metadata": {},
   "outputs": [
    {
     "name": "stdout",
     "output_type": "stream",
     "text": [
      "Writing luigi_hello.py\n"
     ]
    }
   ],
   "source": [
    "%%file luigi_hello.py\n",
    "from bolt4ds import flow as d6tflow\n",
    "import bolt4ds.flow.tasks\n",
    "import luigi\n",
    "import pandas as pd\n",
    "\n",
    "# define 2 tasks that load raw data\n",
    "class Task1(d6tflow.tasks.TaskPqPandas):\n",
    "    \n",
    "    def run(self):\n",
    "        df = pd.DataFrame({'a':range(3)})\n",
    "        self.save(df) # quickly save dataframe\n",
    "\n",
    "class Task2(Task1):\n",
    "    pass\n",
    "\n",
    "# define another task that depends on data from task1 and task2\n",
    "@d6tflow.requires(Task1,Task2)\n",
    "class Task3(d6tflow.tasks.TaskPqPandas):\n",
    "    multiplier = luigi.IntParameter(default=2)\n",
    "    \n",
    "    def run(self):\n",
    "        df1 = self.input()[0].load() # quickly load input data\n",
    "        df2 = self.input()[1].load() # quickly load input data\n",
    "        df = df1.join(df2, lsuffix='1', rsuffix='2')\n",
    "        df['b']=df['a1']*self.multiplier # use task parameter\n",
    "        self.save(df)\n",
    "\n",
    "# Execute task including all its dependencies\n",
    "d6tflow.run(Task3())\n",
    "'''\n",
    "* 3 ran successfully:\n",
    "    - 1 Task1()\n",
    "    - 1 Task2()\n",
    "    - 1 Task3(multiplier=2)\n",
    "'''\n",
    "\n",
    "Task3().outputLoad() # quickly load output data. Task1().outputLoad() also works\n",
    "'''\n",
    "   a1  a2  b\n",
    "0   0   0  0\n",
    "1   1   1  2\n",
    "2   2   2  4\n",
    "'''\n",
    "\n",
    "# Intelligently rerun workflow after changing parameters\n",
    "d6tflow.preview(Task3(multiplier=3))\n",
    "'''\n",
    "└─--[Task3-{'multiplier': '3'} (PENDING)] => this changed and needs to run\n",
    "   |--[Task1-{} (COMPLETE)] => this doesn't change and doesn't need to rerun\n",
    "   └─--[Task2-{} (COMPLETE)] => this doesn't change and doesn't need to rerun\n",
    "'''"
   ]
  },
  {
   "cell_type": "code",
   "execution_count": 21,
   "metadata": {},
   "outputs": [
    {
     "name": "stdout",
     "output_type": "stream",
     "text": [
      "Loading postgres module without psycopg2 installed. Will crash at runtime if postgres functionality is used.\n",
      "Welcome to bolt4ds.flow!\n",
      "INFO: Informed scheduler that task   Task3_2_fb057692ad   has status   PENDING\n",
      "INFO: Informed scheduler that task   Task2__99914b932b   has status   PENDING\n",
      "INFO: Informed scheduler that task   Task1__99914b932b   has status   PENDING\n",
      "INFO: Done scheduling tasks\n",
      "INFO: Running Worker with 1 processes\n",
      "INFO: [pid 75441] Worker Worker(salt=326048280, workers=1, host=localhost, username=leepand, pid=75441) running   Task1()\n",
      "INFO: [pid 75441] Worker Worker(salt=326048280, workers=1, host=localhost, username=leepand, pid=75441) done      Task1()\n",
      "INFO: Informed scheduler that task   Task1__99914b932b   has status   DONE\n",
      "INFO: [pid 75441] Worker Worker(salt=326048280, workers=1, host=localhost, username=leepand, pid=75441) running   Task2()\n",
      "INFO: [pid 75441] Worker Worker(salt=326048280, workers=1, host=localhost, username=leepand, pid=75441) done      Task2()\n",
      "INFO: Informed scheduler that task   Task2__99914b932b   has status   DONE\n",
      "INFO: [pid 75441] Worker Worker(salt=326048280, workers=1, host=localhost, username=leepand, pid=75441) running   Task3(multiplier=2)\n",
      "INFO: [pid 75441] Worker Worker(salt=326048280, workers=1, host=localhost, username=leepand, pid=75441) done      Task3(multiplier=2)\n",
      "INFO: Informed scheduler that task   Task3_2_fb057692ad   has status   DONE\n",
      "INFO: Worker Worker(salt=326048280, workers=1, host=localhost, username=leepand, pid=75441) was stopped. Shutting down Keep-Alive thread\n",
      "INFO: \n",
      "===== Luigi Execution Summary =====\n",
      "\n",
      "Scheduled 3 tasks of which:\n",
      "* 3 ran successfully:\n",
      "    - 1 Task1()\n",
      "    - 1 Task2()\n",
      "    - 1 Task3(multiplier=2)\n",
      "\n",
      "This progress looks :) because there were no failed tasks or missing dependencies\n",
      "\n",
      "===== Luigi Execution Summary =====\n",
      "\n",
      "\n",
      "└─--[Task3-{'multiplier': '3'} (\u001b[94mPENDING\u001b[0m)]\n",
      "   |--[Task1-{} (\u001b[92mCOMPLETE\u001b[0m)]\n",
      "   └─--[Task2-{} (\u001b[92mCOMPLETE\u001b[0m)]\n"
     ]
    }
   ],
   "source": [
    "!python luigi_hello.py Task3 --id=some_id --scheduler-host localhost --scheduler-port 8082"
   ]
  },
  {
   "cell_type": "code",
   "execution_count": 23,
   "metadata": {},
   "outputs": [
    {
     "name": "stdout",
     "output_type": "stream",
     "text": [
      "DEBUG: Checking if HelloWorldTask(id=some_id) is complete\n",
      "DEBUG: Checking if PrintWordTask(path=results/some_id/hello.txt, word=Hello) is complete\n",
      "DEBUG: Checking if PrintWordTask(path=results/some_id/world.txt, word=World) is complete\n",
      "INFO: Informed scheduler that task   HelloWorldTask_some_id_e9ca25296d   has status   PENDING\n",
      "DEBUG: Checking if MakeDirectory(path=results/some_id) is complete\n",
      "INFO: Informed scheduler that task   PrintWordTask_results_some_id__World_b6aa9eaeeb   has status   PENDING\n",
      "INFO: Informed scheduler that task   MakeDirectory_results_some_id_c583f20464   has status   PENDING\n",
      "INFO: Informed scheduler that task   PrintWordTask_results_some_id__Hello_6f5c8c8326   has status   PENDING\n",
      "INFO: Done scheduling tasks\n",
      "INFO: Running Worker with 1 processes\n",
      "DEBUG: Asking scheduler for work...\n",
      "DEBUG: Pending tasks: 4\n",
      "INFO: [pid 75457] Worker Worker(salt=066806557, workers=1, host=localhost, username=leepand, pid=75457) running   MakeDirectory(path=results/some_id)\n",
      "INFO: [pid 75457] Worker Worker(salt=066806557, workers=1, host=localhost, username=leepand, pid=75457) done      MakeDirectory(path=results/some_id)\n",
      "DEBUG: 1 running tasks, waiting for next task to finish\n",
      "INFO: Informed scheduler that task   MakeDirectory_results_some_id_c583f20464   has status   DONE\n",
      "DEBUG: Asking scheduler for work...\n",
      "DEBUG: Pending tasks: 3\n",
      "INFO: [pid 75457] Worker Worker(salt=066806557, workers=1, host=localhost, username=leepand, pid=75457) running   PrintWordTask(path=results/some_id/hello.txt, word=Hello)\n",
      "INFO: [pid 75457] Worker Worker(salt=066806557, workers=1, host=localhost, username=leepand, pid=75457) done      PrintWordTask(path=results/some_id/hello.txt, word=Hello)\n",
      "DEBUG: 1 running tasks, waiting for next task to finish\n",
      "INFO: Informed scheduler that task   PrintWordTask_results_some_id__Hello_6f5c8c8326   has status   DONE\n",
      "DEBUG: Asking scheduler for work...\n",
      "DEBUG: Pending tasks: 2\n",
      "INFO: [pid 75457] Worker Worker(salt=066806557, workers=1, host=localhost, username=leepand, pid=75457) running   PrintWordTask(path=results/some_id/world.txt, word=World)\n",
      "INFO: [pid 75457] Worker Worker(salt=066806557, workers=1, host=localhost, username=leepand, pid=75457) done      PrintWordTask(path=results/some_id/world.txt, word=World)\n",
      "DEBUG: 1 running tasks, waiting for next task to finish\n",
      "INFO: Informed scheduler that task   PrintWordTask_results_some_id__World_b6aa9eaeeb   has status   DONE\n",
      "DEBUG: Asking scheduler for work...\n",
      "DEBUG: Pending tasks: 1\n",
      "INFO: [pid 75457] Worker Worker(salt=066806557, workers=1, host=localhost, username=leepand, pid=75457) running   HelloWorldTask(id=some_id)\n",
      "INFO: [pid 75457] Worker Worker(salt=066806557, workers=1, host=localhost, username=leepand, pid=75457) done      HelloWorldTask(id=some_id)\n",
      "DEBUG: 1 running tasks, waiting for next task to finish\n",
      "INFO: Informed scheduler that task   HelloWorldTask_some_id_e9ca25296d   has status   DONE\n",
      "DEBUG: Asking scheduler for work...\n",
      "DEBUG: Done\n",
      "DEBUG: There are no more tasks to run at this time\n",
      "INFO: Worker Worker(salt=066806557, workers=1, host=localhost, username=leepand, pid=75457) was stopped. Shutting down Keep-Alive thread\n",
      "INFO: \n",
      "===== Luigi Execution Summary =====\n",
      "\n",
      "Scheduled 4 tasks of which:\n",
      "* 4 ran successfully:\n",
      "    - 1 HelloWorldTask(id=some_id)\n",
      "    - 1 MakeDirectory(path=results/some_id)\n",
      "    - 2 PrintWordTask(path=results/some_id/hello.txt, word=Hello) and PrintWordTask(path=results/some_id/world.txt, word=World)\n",
      "\n",
      "This progress looks :) because there were no failed tasks or missing dependencies\n",
      "\n",
      "===== Luigi Execution Summary =====\n",
      "\n"
     ]
    }
   ],
   "source": [
    "!python luigi_hello2.py HelloWorldTask --id=some_id --scheduler-host localhost --scheduler-port 8082"
   ]
  },
  {
   "cell_type": "code",
   "execution_count": 12,
   "metadata": {},
   "outputs": [],
   "source": [
    "import bolt4ds.flow.tasks"
   ]
  },
  {
   "cell_type": "code",
   "execution_count": 3,
   "metadata": {},
   "outputs": [
    {
     "name": "stderr",
     "output_type": "stream",
     "text": [
      "/Users/leepand/Downloads/github/bolt4ds/bolt4ds/sparsity/pandas_utils/pandas_core_indexing.py:22: FutureWarning: pandas.core.index is deprecated and will be removed in a future version.  The public classes are available in the top-level namespace.\n",
      "  from pandas.core.index import Index, MultiIndex\n"
     ]
    }
   ],
   "source": [
    "import bolt4ds.sparsity as sp5\n"
   ]
  },
  {
   "cell_type": "code",
   "execution_count": 28,
   "metadata": {},
   "outputs": [
    {
     "name": "stderr",
     "output_type": "stream",
     "text": [
      "INFO: Informed scheduler that task   HelloWorldTask_test2_065205024b   has status   PENDING\n",
      "INFO: Informed scheduler that task   PrintWordTask_results_test2_wo_World_f17b29e2da   has status   PENDING\n",
      "INFO: Informed scheduler that task   MakeDirectory_results_test2_cf09820580   has status   PENDING\n",
      "INFO: Informed scheduler that task   PrintWordTask_results_test2_he_Hello_3a8204f044   has status   PENDING\n",
      "INFO: Done scheduling tasks\n",
      "INFO: Running Worker with 1 processes\n",
      "INFO: [pid 74895] Worker Worker(salt=517990512, workers=1, host=localhost, username=leepand, pid=74895) running   MakeDirectory(path=results/test2)\n",
      "INFO: [pid 74895] Worker Worker(salt=517990512, workers=1, host=localhost, username=leepand, pid=74895) done      MakeDirectory(path=results/test2)\n",
      "INFO: Informed scheduler that task   MakeDirectory_results_test2_cf09820580   has status   DONE\n",
      "INFO: [pid 74895] Worker Worker(salt=517990512, workers=1, host=localhost, username=leepand, pid=74895) running   PrintWordTask(path=results/test2/world.txt, word=World)\n",
      "INFO: [pid 74895] Worker Worker(salt=517990512, workers=1, host=localhost, username=leepand, pid=74895) done      PrintWordTask(path=results/test2/world.txt, word=World)\n",
      "INFO: Informed scheduler that task   PrintWordTask_results_test2_wo_World_f17b29e2da   has status   DONE\n",
      "INFO: [pid 74895] Worker Worker(salt=517990512, workers=1, host=localhost, username=leepand, pid=74895) running   PrintWordTask(path=results/test2/hello.txt, word=Hello)\n",
      "INFO: [pid 74895] Worker Worker(salt=517990512, workers=1, host=localhost, username=leepand, pid=74895) done      PrintWordTask(path=results/test2/hello.txt, word=Hello)\n",
      "INFO: Informed scheduler that task   PrintWordTask_results_test2_he_Hello_3a8204f044   has status   DONE\n",
      "INFO: [pid 74895] Worker Worker(salt=517990512, workers=1, host=localhost, username=leepand, pid=74895) running   HelloWorldTask(id=test2)\n",
      "INFO: [pid 74895] Worker Worker(salt=517990512, workers=1, host=localhost, username=leepand, pid=74895) done      HelloWorldTask(id=test2)\n",
      "INFO: Informed scheduler that task   HelloWorldTask_test2_065205024b   has status   DONE\n",
      "INFO: Worker Worker(salt=517990512, workers=1, host=localhost, username=leepand, pid=74895) was stopped. Shutting down Keep-Alive thread\n",
      "INFO: \n",
      "===== Luigi Execution Summary =====\n",
      "\n",
      "Scheduled 4 tasks of which:\n",
      "* 4 ran successfully:\n",
      "    - 1 HelloWorldTask(id=test2)\n",
      "    - 1 MakeDirectory(path=results/test2)\n",
      "    - 2 PrintWordTask(path=results/test2/hello.txt, word=Hello) and PrintWordTask(path=results/test2/world.txt, word=World)\n",
      "\n",
      "This progress looks :) because there were no failed tasks or missing dependencies\n",
      "\n",
      "===== Luigi Execution Summary =====\n",
      "\n"
     ]
    }
   ],
   "source": [
    "#%%file luigi_hello2.py\n",
    "# my_module.py, available in your sys.path\n",
    "import luigi\n",
    "import os\n",
    "\n",
    "\n",
    "class PrintWordTask(luigi.Task):\n",
    "    path = luigi.Parameter()\n",
    "    word = luigi.Parameter()\n",
    "\n",
    "    def run(self):\n",
    "        with open(self.path, 'w') as out_file:\n",
    "            out_file.write(self.word)\n",
    "            out_file.close()\n",
    "\n",
    "    def output(self):\n",
    "        return luigi.LocalTarget(self.path)\n",
    "\n",
    "    def requires(self):\n",
    "        return [\n",
    "            MakeDirectory(path=os.path.dirname(self.path)),\n",
    "        ]\n",
    "\n",
    "\n",
    "class HelloWorldTask(luigi.Task):\n",
    "    id = luigi.Parameter(default='test')\n",
    "\n",
    "    def run(self):\n",
    "        with open(self.input()[0].path, 'r') as hello_file:\n",
    "            hello = hello_file.read()\n",
    "        with open(self.input()[1].path, 'r') as world_file:\n",
    "            world = world_file.read()\n",
    "        with open(self.output().path, 'w') as output_file:\n",
    "            content = '{} {}!'.format(hello, world)\n",
    "            output_file.write(content)\n",
    "            output_file.close()\n",
    "\n",
    "    def requires(self):\n",
    "        return [\n",
    "            PrintWordTask(\n",
    "                path='results/{}/hello.txt'.format(self.id),\n",
    "                word='Hello',\n",
    "            ),\n",
    "            PrintWordTask(\n",
    "                path='results/{}/world.txt'.format(self.id),\n",
    "                word='World',\n",
    "            ),\n",
    "        ]\n",
    "\n",
    "    def output(self):\n",
    "        path = 'results/{}/hello_world.txt'.format(self.id)\n",
    "        return luigi.LocalTarget(path)\n",
    "\n",
    "\n",
    "class MakeDirectory(luigi.Task):\n",
    "    path = luigi.Parameter()\n",
    "\n",
    "    def output(self):\n",
    "        return luigi.LocalTarget(self.path)\n",
    "\n",
    "    def run(self):\n",
    "        os.makedirs(self.path)\n",
    "\n",
    "\n",
    "if __name__ == '__main__':\n",
    "    luigi.build([HelloWorldTask(id=\"test2\")])"
   ]
  },
  {
   "cell_type": "code",
   "execution_count": 7,
   "metadata": {},
   "outputs": [],
   "source": [
    "import bolt4ds.flow.targets"
   ]
  },
  {
   "cell_type": "code",
   "execution_count": 6,
   "metadata": {},
   "outputs": [],
   "source": [
    "from bolt4ds.flow.settings import dir, dirpath"
   ]
  },
  {
   "cell_type": "code",
   "execution_count": 1,
   "metadata": {},
   "outputs": [],
   "source": [
    "import pandas as pd\n",
    "import numpy as np\n",
    "import uuid\n",
    "import itertools\n",
    "import importlib\n",
    "\n",
    "import bolt4ds.b4djoin.utils\n",
    "importlib.reload(bolt4ds.b4djoin.utils)\n",
    "\n",
    "# ******************************************\n",
    "# generate sample data\n",
    "# ******************************************\n",
    "nobs = 10\n",
    "uuid1 = [str(uuid.uuid4()) for _ in range(nobs)]\n",
    "dates1 = pd.date_range('1/1/2010','1/1/2011')\n",
    "\n",
    "df1 = pd.DataFrame(list(itertools.product(uuid1,dates1)),columns=['id','date'])\n",
    "df1['v']=np.random.sample(df1.shape[0])"
   ]
  },
  {
   "cell_type": "code",
   "execution_count": 2,
   "metadata": {},
   "outputs": [
    {
     "data": {
      "text/html": [
       "<div>\n",
       "<style scoped>\n",
       "    .dataframe tbody tr th:only-of-type {\n",
       "        vertical-align: middle;\n",
       "    }\n",
       "\n",
       "    .dataframe tbody tr th {\n",
       "        vertical-align: top;\n",
       "    }\n",
       "\n",
       "    .dataframe thead th {\n",
       "        text-align: right;\n",
       "    }\n",
       "</style>\n",
       "<table border=\"1\" class=\"dataframe\">\n",
       "  <thead>\n",
       "    <tr style=\"text-align: right;\">\n",
       "      <th></th>\n",
       "      <th>id</th>\n",
       "      <th>date</th>\n",
       "      <th>v</th>\n",
       "    </tr>\n",
       "  </thead>\n",
       "  <tbody>\n",
       "    <tr>\n",
       "      <th>0</th>\n",
       "      <td>7f30b30f-b6cb-4534-bd7e-2952f1d89656</td>\n",
       "      <td>2010-01-01</td>\n",
       "      <td>0.627310</td>\n",
       "    </tr>\n",
       "    <tr>\n",
       "      <th>1</th>\n",
       "      <td>7f30b30f-b6cb-4534-bd7e-2952f1d89656</td>\n",
       "      <td>2010-01-02</td>\n",
       "      <td>0.857390</td>\n",
       "    </tr>\n",
       "    <tr>\n",
       "      <th>366</th>\n",
       "      <td>7bd0cd65-53d1-4896-b97e-34fc44973a27</td>\n",
       "      <td>2010-01-01</td>\n",
       "      <td>0.113923</td>\n",
       "    </tr>\n",
       "    <tr>\n",
       "      <th>367</th>\n",
       "      <td>7bd0cd65-53d1-4896-b97e-34fc44973a27</td>\n",
       "      <td>2010-01-02</td>\n",
       "      <td>0.271886</td>\n",
       "    </tr>\n",
       "    <tr>\n",
       "      <th>732</th>\n",
       "      <td>6bd9796c-ac8a-4340-9f9f-3cf02ba43f84</td>\n",
       "      <td>2010-01-01</td>\n",
       "      <td>0.364606</td>\n",
       "    </tr>\n",
       "    <tr>\n",
       "      <th>733</th>\n",
       "      <td>6bd9796c-ac8a-4340-9f9f-3cf02ba43f84</td>\n",
       "      <td>2010-01-02</td>\n",
       "      <td>0.545378</td>\n",
       "    </tr>\n",
       "  </tbody>\n",
       "</table>\n",
       "</div>"
      ],
      "text/plain": [
       "                                       id       date         v\n",
       "0    7f30b30f-b6cb-4534-bd7e-2952f1d89656 2010-01-01  0.627310\n",
       "1    7f30b30f-b6cb-4534-bd7e-2952f1d89656 2010-01-02  0.857390\n",
       "366  7bd0cd65-53d1-4896-b97e-34fc44973a27 2010-01-01  0.113923\n",
       "367  7bd0cd65-53d1-4896-b97e-34fc44973a27 2010-01-02  0.271886\n",
       "732  6bd9796c-ac8a-4340-9f9f-3cf02ba43f84 2010-01-01  0.364606\n",
       "733  6bd9796c-ac8a-4340-9f9f-3cf02ba43f84 2010-01-02  0.545378"
      ]
     },
     "execution_count": 2,
     "metadata": {},
     "output_type": "execute_result"
    }
   ],
   "source": [
    "df1.groupby(['id']).head(2).head(6)\n"
   ]
  },
  {
   "cell_type": "code",
   "execution_count": 4,
   "metadata": {},
   "outputs": [],
   "source": [
    "\n",
    "df2 = df1.copy()\n",
    "\n",
    "j = bolt4ds.b4djoin.PreJoin([df1,df2],['id','date'])\n",
    "assert j.is_all_matched() # succeeds\n",
    "assert j.is_all_matched('id') # succeeds\n",
    "assert j.is_all_matched('date') # succeeds"
   ]
  },
  {
   "cell_type": "code",
   "execution_count": 7,
   "metadata": {},
   "outputs": [
    {
     "name": "stdout",
     "output_type": "stream",
     "text": [
      "assert fails!\n"
     ]
    }
   ],
   "source": [
    "# create mismatch\n",
    "df2['id'] = df1['id'].str[1:-1]\n",
    "\n",
    "j = bolt4ds.b4djoin.PreJoin([df1,df2],['id','date'])\n",
    "\n",
    "try:\n",
    "    assert j.is_all_matched() # fails\n",
    "except:\n",
    "    print('assert fails!')"
   ]
  },
  {
   "cell_type": "code",
   "execution_count": 9,
   "metadata": {},
   "outputs": [
    {
     "name": "stdout",
     "output_type": "stream",
     "text": [
      "                                       id       date         v\n",
      "732  6bd9796c-ac8a-4340-9f9f-3cf02ba43f84 2010-01-01  0.364606\n",
      "733  6bd9796c-ac8a-4340-9f9f-3cf02ba43f84 2010-01-02  0.545378\n",
      "734  6bd9796c-ac8a-4340-9f9f-3cf02ba43f84 2010-01-03  0.454076\n",
      "                                      id       date         v\n",
      "1464  9241101-211e-4a49-bf76-b3ba0b02436 2010-01-01  0.818811\n",
      "1465  9241101-211e-4a49-bf76-b3ba0b02436 2010-01-02  0.085298\n",
      "1466  9241101-211e-4a49-bf76-b3ba0b02436 2010-01-03  0.463425\n"
     ]
    }
   ],
   "source": [
    "\n",
    "print(j.show_unmatched('id')['left'])\n",
    "print(j.show_unmatched('id')['right'])"
   ]
  },
  {
   "cell_type": "code",
   "execution_count": 13,
   "metadata": {},
   "outputs": [
    {
     "name": "stdout",
     "output_type": "stream",
     "text": [
      "assert fails!\n"
     ]
    }
   ],
   "source": [
    "\n",
    "# create partial mismatch\n",
    "uuid_sel = np.array(uuid1)[np.random.choice(nobs, nobs//5, replace=False)].tolist()\n",
    "df2 = df1[~df1['id'].isin(uuid_sel)]\n",
    "\n",
    "j = bolt4ds.b4djoin.PreJoin([df1,df2],['id','date'])\n",
    "\n",
    "try:\n",
    "    assert j.is_all_matched() # fails\n",
    "except:\n",
    "    print('assert fails!')"
   ]
  },
  {
   "cell_type": "code",
   "execution_count": null,
   "metadata": {},
   "outputs": [],
   "source": []
  }
 ],
 "metadata": {
  "kernelspec": {
   "display_name": "Python 3",
   "language": "python",
   "name": "python3"
  },
  "language_info": {
   "codemirror_mode": {
    "name": "ipython",
    "version": 3
   },
   "file_extension": ".py",
   "mimetype": "text/x-python",
   "name": "python",
   "nbconvert_exporter": "python",
   "pygments_lexer": "ipython3",
   "version": "3.7.7"
  }
 },
 "nbformat": 4,
 "nbformat_minor": 4
}
