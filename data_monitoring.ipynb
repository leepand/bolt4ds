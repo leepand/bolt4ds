{
 "cells": [
  {
   "cell_type": "code",
   "execution_count": 4,
   "metadata": {},
   "outputs": [],
   "source": [
    "import logging\n",
    "import numpy as np\n",
    "import pandas as pd\n",
    "from sklearn.datasets import make_classification\n",
    "from sklearn.tree import DecisionTreeClassifier\n",
    "from sklearn.pipeline import make_pipeline\n",
    "from bolt4ds.monitor import DataMonitorTransformer"
   ]
  },
  {
   "cell_type": "code",
   "execution_count": 2,
   "metadata": {},
   "outputs": [],
   "source": [
    "SIZE = 100\n",
    "df1 = pd.DataFrame({\n",
    "    # categorical\n",
    "    'feature1': np.random.randint(0, 5, size=SIZE),\n",
    "    'feature2': np.random.randint(0, 5, size=SIZE),\n",
    "    'feature3': np.random.randint(0, 5, size=SIZE),\n",
    "    # numeric\n",
    "    'feature4': np.random.uniform(0, 100, size=SIZE),\n",
    "    'feature5': np.random.uniform(50, 100, size=SIZE),\n",
    "    'response': np.random.randint(1, size=SIZE)\n",
    "})\n",
    "df2 = pd.DataFrame({\n",
    "    # categorical\n",
    "    'feature1': np.random.randint(0, 7, size=SIZE),  # extra values\n",
    "    'feature2': np.random.randint(0, 5, size=SIZE),\n",
    "    'feature3': np.random.randint(-1, 5, size=SIZE), # extra values\n",
    "    # numeric\n",
    "    'feature4': np.random.uniform(-10, 120, size=SIZE), # violate max/min\n",
    "    'feature5': np.random.uniform(50, 110, size=SIZE),  # violate max\n",
    "})\n",
    "df1['feature1'] = df1.feature1.astype(str)\n",
    "df2['feature1'] = df2.feature1.astype(str)\n",
    "df1['feature2'] = df1.feature2.astype(str)\n",
    "df2['feature2'] = df2.feature2.astype(str)\n",
    "df1['feature3'] = df1.feature3.astype(str)\n",
    "df2['feature3'] = df2.feature3.astype(str)"
   ]
  },
  {
   "cell_type": "code",
   "execution_count": 6,
   "metadata": {},
   "outputs": [
    {
     "data": {
      "text/plain": [
       "<bolt4ds.monitor.monitoring.DataMonitorTransformer at 0x1224d3350>"
      ]
     },
     "execution_count": 6,
     "metadata": {},
     "output_type": "execute_result"
    }
   ],
   "source": [
    "logging.basicConfig()\n",
    "features = [c for c in df1.columns if c.startswith('feature')]\n",
    "response = 'response'\n",
    "feijiandu = DataMonitorTransformer()\n",
    "feijiandu.fit(df1[features])"
   ]
  },
  {
   "cell_type": "code",
   "execution_count": 7,
   "metadata": {},
   "outputs": [
    {
     "name": "stderr",
     "output_type": "stream",
     "text": [
      "WARNING:bolt4ds.monitor.monitoring:found 15 runtime value(s) for feature \"feature4\" greater than trained max.\n",
      "WARNING:bolt4ds.monitor.monitoring:found 13 runtime value(s) for feature \"feature5\" greater than trained max.\n",
      "WARNING:bolt4ds.monitor.monitoring:found 7 runtime value(s) for feature \"feature4\" less than trained min.\n",
      "WARNING:bolt4ds.monitor.monitoring:found 2 runtime value(s) for feature \"feature5\" less than trained min.\n",
      "WARNING:bolt4ds.monitor.monitoring:found 29 categorical runtime value(s) for feature \"feature1\" not in training data: ['6', '5'].\n",
      "WARNING:bolt4ds.monitor.monitoring:found 18 categorical runtime value(s) for feature \"feature3\" not in training data: ['-1'].\n"
     ]
    },
    {
     "data": {
      "text/html": [
       "<div>\n",
       "<style scoped>\n",
       "    .dataframe tbody tr th:only-of-type {\n",
       "        vertical-align: middle;\n",
       "    }\n",
       "\n",
       "    .dataframe tbody tr th {\n",
       "        vertical-align: top;\n",
       "    }\n",
       "\n",
       "    .dataframe thead th {\n",
       "        text-align: right;\n",
       "    }\n",
       "</style>\n",
       "<table border=\"1\" class=\"dataframe\">\n",
       "  <thead>\n",
       "    <tr style=\"text-align: right;\">\n",
       "      <th></th>\n",
       "      <th>feature1</th>\n",
       "      <th>feature2</th>\n",
       "      <th>feature3</th>\n",
       "      <th>feature4</th>\n",
       "      <th>feature5</th>\n",
       "    </tr>\n",
       "  </thead>\n",
       "  <tbody>\n",
       "    <tr>\n",
       "      <th>0</th>\n",
       "      <td>6</td>\n",
       "      <td>2</td>\n",
       "      <td>0</td>\n",
       "      <td>64.338252</td>\n",
       "      <td>53.365312</td>\n",
       "    </tr>\n",
       "    <tr>\n",
       "      <th>1</th>\n",
       "      <td>1</td>\n",
       "      <td>4</td>\n",
       "      <td>4</td>\n",
       "      <td>95.396851</td>\n",
       "      <td>107.651474</td>\n",
       "    </tr>\n",
       "    <tr>\n",
       "      <th>2</th>\n",
       "      <td>0</td>\n",
       "      <td>1</td>\n",
       "      <td>4</td>\n",
       "      <td>39.306023</td>\n",
       "      <td>83.530986</td>\n",
       "    </tr>\n",
       "    <tr>\n",
       "      <th>3</th>\n",
       "      <td>2</td>\n",
       "      <td>2</td>\n",
       "      <td>-1</td>\n",
       "      <td>59.596306</td>\n",
       "      <td>69.485109</td>\n",
       "    </tr>\n",
       "    <tr>\n",
       "      <th>4</th>\n",
       "      <td>3</td>\n",
       "      <td>4</td>\n",
       "      <td>0</td>\n",
       "      <td>109.896554</td>\n",
       "      <td>108.957818</td>\n",
       "    </tr>\n",
       "    <tr>\n",
       "      <th>...</th>\n",
       "      <td>...</td>\n",
       "      <td>...</td>\n",
       "      <td>...</td>\n",
       "      <td>...</td>\n",
       "      <td>...</td>\n",
       "    </tr>\n",
       "    <tr>\n",
       "      <th>95</th>\n",
       "      <td>4</td>\n",
       "      <td>4</td>\n",
       "      <td>0</td>\n",
       "      <td>73.133312</td>\n",
       "      <td>66.083534</td>\n",
       "    </tr>\n",
       "    <tr>\n",
       "      <th>96</th>\n",
       "      <td>5</td>\n",
       "      <td>2</td>\n",
       "      <td>0</td>\n",
       "      <td>118.149347</td>\n",
       "      <td>54.577331</td>\n",
       "    </tr>\n",
       "    <tr>\n",
       "      <th>97</th>\n",
       "      <td>6</td>\n",
       "      <td>2</td>\n",
       "      <td>1</td>\n",
       "      <td>39.724767</td>\n",
       "      <td>90.955421</td>\n",
       "    </tr>\n",
       "    <tr>\n",
       "      <th>98</th>\n",
       "      <td>5</td>\n",
       "      <td>0</td>\n",
       "      <td>-1</td>\n",
       "      <td>17.213873</td>\n",
       "      <td>99.400058</td>\n",
       "    </tr>\n",
       "    <tr>\n",
       "      <th>99</th>\n",
       "      <td>6</td>\n",
       "      <td>4</td>\n",
       "      <td>4</td>\n",
       "      <td>12.827248</td>\n",
       "      <td>92.863098</td>\n",
       "    </tr>\n",
       "  </tbody>\n",
       "</table>\n",
       "<p>100 rows × 5 columns</p>\n",
       "</div>"
      ],
      "text/plain": [
       "   feature1 feature2 feature3    feature4    feature5\n",
       "0         6        2        0   64.338252   53.365312\n",
       "1         1        4        4   95.396851  107.651474\n",
       "2         0        1        4   39.306023   83.530986\n",
       "3         2        2       -1   59.596306   69.485109\n",
       "4         3        4        0  109.896554  108.957818\n",
       "..      ...      ...      ...         ...         ...\n",
       "95        4        4        0   73.133312   66.083534\n",
       "96        5        2        0  118.149347   54.577331\n",
       "97        6        2        1   39.724767   90.955421\n",
       "98        5        0       -1   17.213873   99.400058\n",
       "99        6        4        4   12.827248   92.863098\n",
       "\n",
       "[100 rows x 5 columns]"
      ]
     },
     "execution_count": 7,
     "metadata": {},
     "output_type": "execute_result"
    }
   ],
   "source": [
    "feijiandu.transform(df2[features])"
   ]
  },
  {
   "cell_type": "code",
   "execution_count": 8,
   "metadata": {},
   "outputs": [
    {
     "data": {
      "text/plain": [
       "{'numeric': {'maxes': feature4    98.515678\n",
       "  feature5    99.713344\n",
       "  dtype: float64, 'mins': feature4     1.058583\n",
       "  feature5    50.569449\n",
       "  dtype: float64},\n",
       " 'categoricals': {'feature1': array(['0', '2', '4', '3', '1'], dtype=object),\n",
       "  'feature2': array(['1', '2', '4', '3', '0'], dtype=object),\n",
       "  'feature3': array(['4', '2', '3', '0', '1'], dtype=object)}}"
      ]
     },
     "execution_count": 8,
     "metadata": {},
     "output_type": "execute_result"
    }
   ],
   "source": [
    "feijiandu.data_monitor.schema"
   ]
  },
  {
   "cell_type": "code",
   "execution_count": null,
   "metadata": {},
   "outputs": [],
   "source": []
  }
 ],
 "metadata": {
  "kernelspec": {
   "display_name": "Python 3",
   "language": "python",
   "name": "python3"
  },
  "language_info": {
   "codemirror_mode": {
    "name": "ipython",
    "version": 3
   },
   "file_extension": ".py",
   "mimetype": "text/x-python",
   "name": "python",
   "nbconvert_exporter": "python",
   "pygments_lexer": "ipython3",
   "version": "3.7.4"
  }
 },
 "nbformat": 4,
 "nbformat_minor": 4
}
